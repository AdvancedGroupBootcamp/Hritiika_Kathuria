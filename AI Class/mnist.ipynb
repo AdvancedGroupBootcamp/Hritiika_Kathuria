{
  "nbformat": 4,
  "nbformat_minor": 0,
  "metadata": {
    "colab": {
      "provenance": []
    },
    "kernelspec": {
      "name": "python3",
      "display_name": "Python 3"
    },
    "language_info": {
      "name": "python"
    }
  },
  "cells": [
    {
      "cell_type": "code",
      "execution_count": null,
      "metadata": {
        "id": "TiVSJdY3mHZl"
      },
      "outputs": [],
      "source": [
        "import pandas as pd\n",
        "import matplotlib.pyplot as plt\n",
        "import numpy as np\n",
        "import seaborn as sns\n",
        "import collections\n",
        "import tensorflow as tf\n",
        "import keras\n",
        "from keras.models import Sequential\n",
        "from keras.layers import Dense, Dropout\n"
      ]
    },
    {
      "cell_type": "code",
      "source": [
        "from sklearn import svm, metrics\n",
        "from sklearn.preprocessing import MinMaxScaler\n",
        "from sklearn.metrics import accuracy_score, confusion_matrix"
      ],
      "metadata": {
        "id": "RR3av72MmLa3"
      },
      "execution_count": null,
      "outputs": []
    },
    {
      "cell_type": "code",
      "source": [
        "from keras.datasets import mnist\n",
        "(training_dataset_x, training_dataset_y), (test_dataset_x, test_dataset_y) = mnist.load_data()"
      ],
      "metadata": {
        "id": "r5VGdrZAmYf_"
      },
      "execution_count": null,
      "outputs": []
    },
    {
      "cell_type": "code",
      "source": [
        "from keras.datasets import mnist;\n",
        "\n",
        "(training_dataset_x, training_dataset_y), (test_dataset_x, test_dataset_y) = mnist.load_data()\n",
        "import seaborn as sns\n",
        "import collections\n",
        "import matplotlib.pyplot as plt\n",
        "\n",
        "value_count_training = collections.Counter(training_dataset_y)\n",
        "\n",
        "fig, ax0 = plt.subplots(1, 1, dpi=100)\n",
        "ax = sns.barplot(list(value_count_training.keys()), list(value_count_training.values()), palette='cool')\n",
        "ax.set_xlabel('Handwritten Numbers')\n",
        "ax.set_title(\"Numbers Distribution\")\n",
        "plt.show();\n",
        "training_dataset_x = training_dataset_x.reshape(-1, 28 * 28) \n",
        "test_dataset_x = test_dataset_x.reshape(-1, 28 * 28)"
      ],
      "metadata": {
        "colab": {
          "base_uri": "https://localhost:8080/",
          "height": 459
        },
        "id": "gGGQNoC_meMl",
        "outputId": "9d443fa8-e6fe-4c51-9c28-f92ce1aef34c"
      },
      "execution_count": null,
      "outputs": [
        {
          "output_type": "stream",
          "name": "stderr",
          "text": [
            "/usr/local/lib/python3.7/dist-packages/seaborn/_decorators.py:43: FutureWarning: Pass the following variables as keyword args: x, y. From version 0.12, the only valid positional argument will be `data`, and passing other arguments without an explicit keyword will result in an error or misinterpretation.\n",
            "  FutureWarning\n"
          ]
        },
        {
          "output_type": "display_data",
          "data": {
            "text/plain": [
              "<Figure size 600x400 with 1 Axes>"
            ],
            "image/png": "[encoded data removed]"
          },
          "metadata": {
            "needs_background": "light"
          }
        }
      ]
    },
    {
      "cell_type": "code",
      "source": [
        "#one hot encoding\n",
        "from keras.utils import to_categorical\n",
        "\n",
        "training_dataset_y = to_categorical(training_dataset_y)\n",
        "test_dataset_y = to_categorical(test_dataset_y)"
      ],
      "metadata": {
        "id": "sR3TlXNzmlLp"
      },
      "execution_count": null,
      "outputs": []
    },
    {
      "cell_type": "code",
      "source": [
        "training_dataset_x = training_dataset_x / 255\n",
        "test_dataset_x = test_dataset_x / 255"
      ],
      "metadata": {
        "id": "IBacSTOCmxf9"
      },
      "execution_count": null,
      "outputs": []
    },
    {
      "cell_type": "code",
      "source": [
        "(X_train, y_train), (X_test, y_test) = mnist.load_data()\n"
      ],
      "metadata": {
        "id": "Bk7KY9Vxm2Ob"
      },
      "execution_count": null,
      "outputs": []
    },
    {
      "cell_type": "code",
      "source": [
        "scaler = MinMaxScaler(feature_range=(-1,1)).fit(training_dataset_x)\n",
        "X_train = scaler.transform(training_dataset_x)\n",
        "X_test = scaler.transform(test_dataset_x)"
      ],
      "metadata": {
        "id": "1E_MH9ZAswYP"
      },
      "execution_count": null,
      "outputs": []
    },
    {
      "cell_type": "code",
      "source": [
        "#svm w RBF kernel\n",
        "rbf_svm = svm.SVC(kernel='rbf')\n",
        "rbf_svm.fit(training_dataset_x, y_train)"
      ],
      "metadata": {
        "colab": {
          "base_uri": "https://localhost:8080/"
        },
        "id": "PsO3t9DpxlLF",
        "outputId": "5d1cce63-5a60-44c6-eb10-59522def7bef"
      },
      "execution_count": null,
      "outputs": [
        {
          "output_type": "execute_result",
          "data": {
            "text/plain": [
              "SVC()"
            ]
          },
          "metadata": {},
          "execution_count": 23
        }
      ]
    },
    {
      "cell_type": "code",
      "source": [
        "y_pred = rbf_svm.predict(test_dataset_x)"
      ],
      "metadata": {
        "id": "M5gyWuBFy1Ps"
      },
      "execution_count": null,
      "outputs": []
    },
    {
      "cell_type": "code",
      "source": [
        "#compute the confusion matrix\n",
        "\n",
        "cm = confusion_matrix(y_pred, y_test)\n",
        "sns.heatmap(cm, annot = True, fmt = 'g')\n",
        "plt.xlabel(\"Predicted\")\n",
        "plt.ylabel(\"Actual\")\n",
        "plt.title(\"Confusion Matrix\")\n",
        "plt.show()"
      ],
      "metadata": {
        "colab": {
          "base_uri": "https://localhost:8080/",
          "height": 295
        },
        "id": "Py2824lMze0T",
        "outputId": "514ecc03-844f-4cd3-983a-9f79340efb81"
      },
      "execution_count": null,
      "outputs": [
        {
          "output_type": "display_data",
          "data": {
            "text/plain": [
              "<Figure size 432x288 with 2 Axes>"
            ],
            "image/png": "[encoded data removed]"
          },
          "metadata": {
            "needs_background": "light"
          }
        }
      ]
    },
    {
      "cell_type": "code",
      "source": [
        "#the accuracy score of the model\n",
        "\n",
        "accuracy_score(y_pred, y_test)"
      ],
      "metadata": {
        "colab": {
          "base_uri": "https://localhost:8080/"
        },
        "id": "vVIXBAGAz2hB",
        "outputId": "9e7e789b-c3c5-4d49-b989-190b136d7a0d"
      },
      "execution_count": null,
      "outputs": [
        {
          "output_type": "execute_result",
          "data": {
            "text/plain": [
              "0.9792"
            ]
          },
          "metadata": {},
          "execution_count": 28
        }
      ]
    },
    {
      "cell_type": "code",
      "source": [
        "test = pd.read_csv(r\"mnist_test.csv\")"
      ],
      "metadata": {
        "id": "HC7ZEg-l0zlX"
      },
      "execution_count": null,
      "outputs": []
    },
    {
      "cell_type": "code",
      "source": [
        "#have a look at a case that the model correctly classified\n",
        "\n",
        "for i in range(len(y_test)):\n",
        "    if y_test[i] == y_pred[i]:\n",
        "        instance = i\n",
        "        break\n",
        "\n",
        "plt.imshow(np.reshape(np.array(test.iloc[instance,1:]), (-1,28)), cmap = 'gray');\n",
        "plt.title('The true class is\": %i while we find %i' % (y_test[instance], y_pred[instance]))\n",
        "plt.show()"
      ],
      "metadata": {
        "colab": {
          "base_uri": "https://localhost:8080/",
          "height": 281
        },
        "id": "DCVb8ud4z6wi",
        "outputId": "0f4f7063-a3a3-4664-c3d9-1a9a3c0023db"
      },
      "execution_count": null,
      "outputs": [
        {
          "output_type": "display_data",
          "data": {
            "text/plain": [
              "<Figure size 432x288 with 1 Axes>"
            ],
            "image/png": "[encoded data removed]"
          },
          "metadata": {
            "needs_background": "light"
          }
        }
      ]
    },
    {
      "cell_type": "markdown",
      "source": [],
      "metadata": {
        "id": "NO6YijqrzgPL"
      }
    },
    {
      "cell_type": "code",
      "source": [
        "#have a look at a case that the model misclassified\n",
        "\n",
        "for i in range(len(y_test)):\n",
        "    if y_test[i] != y_pred[i]:\n",
        "        instance = i\n",
        "        break\n",
        "         \n",
        "plt.imshow(np.reshape(np.array(test.iloc[instance,1:]), (-1,28)), cmap = 'gray');\n",
        "plt.title('The true class is\": %i while we find %i' % (y_test[instance], y_pred[instance]))\n",
        "plt.show()"
      ],
      "metadata": {
        "colab": {
          "base_uri": "https://localhost:8080/",
          "height": 281
        },
        "id": "7mNpcB5C1vFd",
        "outputId": "bac6e63e-f006-4646-bd25-09e2210a6e40"
      },
      "execution_count": null,
      "outputs": [
        {
          "output_type": "display_data",
          "data": {
            "text/plain": [
              "<Figure size 432x288 with 1 Axes>"
            ],
            "image/png": "[encoded data removed]"
          },
          "metadata": {
            "needs_background": "light"
          }
        }
      ]
    },
    {
      "cell_type": "code",
      "source": [
        "# #decision tree\n",
        "# # Standard Libraries\n",
        "# import os\n",
        "# import numpy as np \n",
        "# import pandas as pd \n",
        "# import random as rn\n",
        "\n",
        "# # Visualization libraries\n",
        "# import pydotplus\n",
        "# import matplotlib\n",
        "# import matplotlib.pyplot as plt\n",
        "# import seaborn as sns\n",
        "# sns.set_style({\"axes.facecolor\": \".95\"})\n",
        "\n",
        "# # Modeling and Machine Learning\n",
        "# from IPython.display import Image \n",
        "# from sklearn.manifold import TSNE\n",
        "# from sklearn.metrics import accuracy_score\n",
        "# from sklearn.externals.six import StringIO  \n",
        "# from sklearn.decomposition import TruncatedSVD\n",
        "# from sklearn.model_selection import train_test_split\n",
        "# from sklearn.tree import DecisionTreeClassifier, export_graphviz\n",
        "# # Seed for reproducability\n",
        "# seed = 1234\n",
        "# np.random.seed(seed)\n",
        "# rn.seed(seed)\n",
        "# os.environ['PYTHONHASHSEED'] = str(seed)"
      ],
      "metadata": {
        "id": "zum7WU1cyzoM"
      },
      "execution_count": null,
      "outputs": []
    },
    {
      "cell_type": "code",
      "source": [
        "test.shape"
      ],
      "metadata": {
        "colab": {
          "base_uri": "https://localhost:8080/"
        },
        "id": "fpxDi8Ev2uh6",
        "outputId": "ae5b2a79-5c0b-4598-d88d-556803070519"
      },
      "execution_count": null,
      "outputs": [
        {
          "output_type": "execute_result",
          "data": {
            "text/plain": [
              "(1155, 785)"
            ]
          },
          "metadata": {},
          "execution_count": 37
        }
      ]
    },
    {
      "cell_type": "code",
      "source": [
        "training_dataset_x.shape"
      ],
      "metadata": {
        "colab": {
          "base_uri": "https://localhost:8080/"
        },
        "id": "U-ZYSby43E2e",
        "outputId": "9cf25e46-9f77-4b88-d0b3-6b8a981cface"
      },
      "execution_count": null,
      "outputs": [
        {
          "output_type": "execute_result",
          "data": {
            "text/plain": [
              "(60000, 784)"
            ]
          },
          "metadata": {},
          "execution_count": 40
        }
      ]
    },
    {
      "cell_type": "code",
      "source": [
        "test_dataset_x.shape"
      ],
      "metadata": {
        "colab": {
          "base_uri": "https://localhost:8080/"
        },
        "id": "-uPBsBSk3o2c",
        "outputId": "ddaf0bac-ad1c-46f4-bf07-06afe177a21a"
      },
      "execution_count": null,
      "outputs": [
        {
          "output_type": "execute_result",
          "data": {
            "text/plain": [
              "(10000, 784)"
            ]
          },
          "metadata": {},
          "execution_count": 42
        }
      ]
    },
    {
      "cell_type": "code",
      "source": [
        "from sklearn.ensemble import RandomForestClassifier  #Random Forest algorithm\n",
        "from sklearn.model_selection import train_test_split\n",
        "from sklearn.metrics import classification_report, confusion_matrix\n",
        "from sklearn.model_selection import RandomizedSearchCV, GridSearchCV \n",
        "from sklearn.model_selection import cross_val_score\n",
        "#To show graphs within the notebook\n",
        "%matplotlib inline "
      ],
      "metadata": {
        "id": "WDUBj1XV36yl"
      },
      "execution_count": null,
      "outputs": []
    },
    {
      "cell_type": "code",
      "source": [
        "#training random Forest\n",
        "rf=RandomForestClassifier(n_estimators=100)\n",
        "rf.fit(training_dataset_x,training_dataset_y)"
      ],
      "metadata": {
        "colab": {
          "base_uri": "https://localhost:8080/"
        },
        "id": "g4Sf8f8o3wp_",
        "outputId": "b6fa4034-1813-4c77-e5b5-159c5db149ce"
      },
      "execution_count": null,
      "outputs": [
        {
          "output_type": "execute_result",
          "data": {
            "text/plain": [
              "RandomForestClassifier()"
            ]
          },
          "metadata": {},
          "execution_count": 45
        }
      ]
    },
    {
      "cell_type": "code",
      "source": [
        "pred=rf.predict(test_dataset_x)\n",
        "print (\"Classification Report\")\n",
        "print(classification_report(test_dataset_y, pred))\n"
      ],
      "metadata": {
        "colab": {
          "base_uri": "https://localhost:8080/"
        },
        "id": "65HVpORE3-Jt",
        "outputId": "ebe15371-df68-49f7-97cf-898726e5b9ee"
      },
      "execution_count": null,
      "outputs": [
        {
          "output_type": "stream",
          "name": "stdout",
          "text": [
            "Classification Report\n",
            "              precision    recall  f1-score   support\n",
            "\n",
            "           0       0.99      0.97      0.98       980\n",
            "           1       1.00      0.98      0.99      1135\n",
            "           2       0.99      0.89      0.94      1032\n",
            "           3       1.00      0.87      0.93      1010\n",
            "           4       0.99      0.89      0.94       982\n",
            "           5       1.00      0.86      0.92       892\n",
            "           6       1.00      0.93      0.96       958\n",
            "           7       0.99      0.91      0.95      1028\n",
            "           8       0.99      0.83      0.90       974\n",
            "           9       0.99      0.89      0.93      1009\n",
            "\n",
            "   micro avg       0.99      0.90      0.95     10000\n",
            "   macro avg       0.99      0.90      0.94     10000\n",
            "weighted avg       0.99      0.90      0.95     10000\n",
            " samples avg       0.90      0.90      0.90     10000\n",
            "\n"
          ]
        },
        {
          "output_type": "stream",
          "name": "stderr",
          "text": [
            "/usr/local/lib/python3.7/dist-packages/sklearn/metrics/_classification.py:1318: UndefinedMetricWarning: Precision and F-score are ill-defined and being set to 0.0 in samples with no predicted labels. Use `zero_division` parameter to control this behavior.\n",
            "  _warn_prf(average, modifier, msg_start, len(result))\n"
          ]
        }
      ]
    },
    {
      "cell_type": "code",
      "source": [
        "#evaluating\n",
        "score = accuracy_score(test_dataset_y,pred)\n",
        "score"
      ],
      "metadata": {
        "colab": {
          "base_uri": "https://localhost:8080/"
        },
        "id": "z1VsVVg44kjG",
        "outputId": "85a777ef-0a6b-431f-cb96-7feb9afcaed1"
      },
      "execution_count": null,
      "outputs": [
        {
          "output_type": "execute_result",
          "data": {
            "text/plain": [
              "0.9016"
            ]
          },
          "metadata": {},
          "execution_count": 56
        }
      ]
    },
    {
      "cell_type": "code",
      "source": [
        "#decision tree\n",
        "from sklearn.tree import DecisionTreeClassifier \n",
        "dtree = DecisionTreeClassifier()\n",
        "dtree.fit(training_dataset_x , training_dataset_y)\n",
        "from sklearn.metrics import confusion_matrix\n",
        "cmdtree = confusion_matrix(test_dataset_y,ypred)\n",
        "cmdtree ,dtree.score(xtest , ytest)\n"
      ],
      "metadata": {
        "id": "iIZiGYIj6JUw"
      },
      "execution_count": null,
      "outputs": []
    },
    {
      "cell_type": "code",
      "source": [
        "from keras.datasets import mnist\n",
        "(X_train, y_train), (X_test, y_test) = mnist.load_data()"
      ],
      "metadata": {
        "id": "fXLM063x-iQO"
      },
      "execution_count": null,
      "outputs": []
    },
    {
      "cell_type": "code",
      "source": [
        "plt.imshow(X_train[13])\n",
        "print(y_train[13])"
      ],
      "metadata": {
        "colab": {
          "base_uri": "https://localhost:8080/",
          "height": 282
        },
        "id": "q0WWWzgi-QvU",
        "outputId": "0601a232-2699-4b64-c48c-0d9e16ab58b2"
      },
      "execution_count": null,
      "outputs": [
        {
          "output_type": "stream",
          "name": "stdout",
          "text": [
            "6\n"
          ]
        },
        {
          "output_type": "display_data",
          "data": {
            "text/plain": [
              "<Figure size 432x288 with 1 Axes>"
            ],
            "image/png": "[encoded data removed]"
          },
          "metadata": {
            "needs_background": "light"
          }
        }
      ]
    },
    {
      "cell_type": "code",
      "source": [
        "X_train = X_train/255\n",
        "X_test = X_test/255"
      ],
      "metadata": {
        "id": "wnk0w8pA-VSN"
      },
      "execution_count": null,
      "outputs": []
    },
    {
      "cell_type": "code",
      "source": [
        "from tensorflow import keras\n",
        "from tensorflow.keras import Sequential\n",
        "from tensorflow.keras.layers import Flatten, Dense"
      ],
      "metadata": {
        "id": "33L1CvCf_Rrw"
      },
      "execution_count": null,
      "outputs": []
    },
    {
      "cell_type": "code",
      "source": [
        "model = Sequential()"
      ],
      "metadata": {
        "id": "Wmcq4oGb_sf6"
      },
      "execution_count": null,
      "outputs": []
    },
    {
      "cell_type": "code",
      "source": [
        "model.add(Flatten(input_shape = (28,28)))\n",
        "model.add(Dense(128, activation = 'relu'))\n",
        "model.add(Dense(10, activation = 'softmax'))"
      ],
      "metadata": {
        "id": "9zteQcMsDuNb"
      },
      "execution_count": null,
      "outputs": []
    },
    {
      "cell_type": "code",
      "source": [
        "model.summary()"
      ],
      "metadata": {
        "colab": {
          "base_uri": "https://localhost:8080/"
        },
        "id": "TXO3BqkeD-mj",
        "outputId": "2c4c5b9d-c91e-4804-df2a-a2676f77d941"
      },
      "execution_count": null,
      "outputs": [
        {
          "output_type": "stream",
          "name": "stdout",
          "text": [
            "Model: \"sequential\"\n",
            "_________________________________________________________________\n",
            " Layer (type)                Output Shape              Param #   \n",
            "=================================================================\n",
            " flatten_1 (Flatten)         (None, 784)               0         \n",
            "                                                                 \n",
            " dense (Dense)               (None, 128)               100480    \n",
            "                                                                 \n",
            " dense_1 (Dense)             (None, 10)                1290      \n",
            "                                                                 \n",
            "=================================================================\n",
            "Total params: 101,770\n",
            "Trainable params: 101,770\n",
            "Non-trainable params: 0\n",
            "_________________________________________________________________\n"
          ]
        }
      ]
    },
    {
      "cell_type": "code",
      "source": [
        "from keras.optimizers.optimizer_v1 import Optimizer\n",
        "model.compile(optimizer = 'Adam', loss = 'sparse_categorical_crossentropy', metrics = ['accuracy'])"
      ],
      "metadata": {
        "id": "urStMou-EHmp"
      },
      "execution_count": null,
      "outputs": []
    },
    {
      "cell_type": "code",
      "source": [
        "history = model.fit(X_train, y_train, batch_size = 64, epochs = 20, verbose = 1, validation_split = 0.2)"
      ],
      "metadata": {
        "colab": {
          "base_uri": "https://localhost:8080/"
        },
        "id": "4DbX7LRKEbgW",
        "outputId": "3577a7d3-4f94-467d-99aa-2838613427b0"
      },
      "execution_count": null,
      "outputs": [
        {
          "output_type": "stream",
          "name": "stdout",
          "text": [
            "Epoch 1/20\n",
            "750/750 [==============================] - 3s 5ms/step - loss: 3.8876e-04 - accuracy: 1.0000 - val_loss: 0.1116 - val_accuracy: 0.9800\n",
            "Epoch 2/20\n",
            "750/750 [==============================] - 2s 3ms/step - loss: 2.6678e-04 - accuracy: 1.0000 - val_loss: 0.1109 - val_accuracy: 0.9803\n",
            "Epoch 3/20\n",
            "750/750 [==============================] - 2s 2ms/step - loss: 0.0056 - accuracy: 0.9984 - val_loss: 0.1368 - val_accuracy: 0.9746\n",
            "Epoch 4/20\n",
            "750/750 [==============================] - 2s 2ms/step - loss: 0.0064 - accuracy: 0.9977 - val_loss: 0.1201 - val_accuracy: 0.9784\n",
            "Epoch 5/20\n",
            "750/750 [==============================] - 2s 2ms/step - loss: 8.6388e-04 - accuracy: 0.9999 - val_loss: 0.1183 - val_accuracy: 0.9791\n",
            "Epoch 6/20\n",
            "750/750 [==============================] - 2s 2ms/step - loss: 2.8014e-04 - accuracy: 1.0000 - val_loss: 0.1179 - val_accuracy: 0.9788\n",
            "Epoch 7/20\n",
            "750/750 [==============================] - 2s 2ms/step - loss: 1.8309e-04 - accuracy: 1.0000 - val_loss: 0.1174 - val_accuracy: 0.9795\n",
            "Epoch 8/20\n",
            "750/750 [==============================] - 2s 2ms/step - loss: 1.4476e-04 - accuracy: 1.0000 - val_loss: 0.1190 - val_accuracy: 0.9793\n",
            "Epoch 9/20\n",
            "750/750 [==============================] - 2s 3ms/step - loss: 1.2542e-04 - accuracy: 1.0000 - val_loss: 0.1204 - val_accuracy: 0.9790\n",
            "Epoch 10/20\n",
            "750/750 [==============================] - 3s 4ms/step - loss: 1.1311e-04 - accuracy: 1.0000 - val_loss: 0.1207 - val_accuracy: 0.9794\n",
            "Epoch 11/20\n",
            "750/750 [==============================] - 3s 4ms/step - loss: 2.5254e-04 - accuracy: 1.0000 - val_loss: 0.1609 - val_accuracy: 0.9742\n",
            "Epoch 12/20\n",
            "750/750 [==============================] - 3s 4ms/step - loss: 0.0134 - accuracy: 0.9959 - val_loss: 0.1451 - val_accuracy: 0.9764\n",
            "Epoch 13/20\n",
            "750/750 [==============================] - 2s 2ms/step - loss: 0.0019 - accuracy: 0.9996 - val_loss: 0.1314 - val_accuracy: 0.9775\n",
            "Epoch 14/20\n",
            "750/750 [==============================] - 2s 2ms/step - loss: 5.5341e-04 - accuracy: 0.9999 - val_loss: 0.1312 - val_accuracy: 0.9794\n",
            "Epoch 15/20\n",
            "750/750 [==============================] - 2s 2ms/step - loss: 2.3523e-04 - accuracy: 1.0000 - val_loss: 0.1284 - val_accuracy: 0.9789\n",
            "Epoch 16/20\n",
            "750/750 [==============================] - 2s 2ms/step - loss: 1.0327e-04 - accuracy: 1.0000 - val_loss: 0.1280 - val_accuracy: 0.9794\n",
            "Epoch 17/20\n",
            "750/750 [==============================] - 2s 2ms/step - loss: 8.2139e-05 - accuracy: 1.0000 - val_loss: 0.1297 - val_accuracy: 0.9791\n",
            "Epoch 18/20\n",
            "750/750 [==============================] - 2s 2ms/step - loss: 6.9604e-05 - accuracy: 1.0000 - val_loss: 0.1304 - val_accuracy: 0.9794\n",
            "Epoch 19/20\n",
            "750/750 [==============================] - 2s 2ms/step - loss: 5.9419e-05 - accuracy: 1.0000 - val_loss: 0.1305 - val_accuracy: 0.9793\n",
            "Epoch 20/20\n",
            "750/750 [==============================] - 2s 2ms/step - loss: 5.1165e-05 - accuracy: 1.0000 - val_loss: 0.1329 - val_accuracy: 0.9789\n"
          ]
        }
      ]
    },
    {
      "cell_type": "code",
      "source": [
        "model.evaluate(X_test, y_test)"
      ],
      "metadata": {
        "colab": {
          "base_uri": "https://localhost:8080/"
        },
        "id": "gKLrYgKHEwYw",
        "outputId": "30aef711-d926-42ee-a70c-55b538e23aa3"
      },
      "execution_count": null,
      "outputs": [
        {
          "output_type": "stream",
          "name": "stdout",
          "text": [
            "313/313 [==============================] - 0s 1ms/step - loss: 0.0971 - accuracy: 0.9802\n"
          ]
        },
        {
          "output_type": "execute_result",
          "data": {
            "text/plain": [
              "[0.09706155210733414, 0.9801999926567078]"
            ]
          },
          "metadata": {},
          "execution_count": 83
        }
      ]
    },
    {
      "cell_type": "code",
      "source": [
        "model.predict(X_test)"
      ],
      "metadata": {
        "colab": {
          "base_uri": "https://localhost:8080/"
        },
        "id": "2ir3VycxE6U3",
        "outputId": "9751f500-a0ea-4c7a-ae44-daef44b5ea6b"
      },
      "execution_count": null,
      "outputs": [
        {
          "output_type": "stream",
          "name": "stdout",
          "text": [
            "313/313 [==============================] - 0s 1ms/step\n"
          ]
        },
        {
          "output_type": "execute_result",
          "data": {
            "text/plain": [
              "array([[8.4027871e-12, 1.0753342e-14, 1.3858626e-09, ..., 9.9999911e-01,\n",
              "        1.8712568e-12, 1.7032361e-09],\n",
              "       [2.4801946e-13, 5.2850720e-07, 9.9999946e-01, ..., 5.5123515e-25,\n",
              "        5.0470717e-15, 4.7903310e-24],\n",
              "       [2.9631351e-09, 9.9980760e-01, 6.0754846e-05, ..., 6.0438306e-06,\n",
              "        1.2380663e-04, 1.9876044e-11],\n",
              "       ...,\n",
              "       [3.4321792e-24, 1.7199549e-21, 4.5296972e-21, ..., 4.9965343e-13,\n",
              "        3.3807295e-12, 1.6504157e-09],\n",
              "       [1.5181428e-23, 1.1706595e-20, 1.3517471e-25, ..., 1.0059046e-20,\n",
              "        6.4465430e-12, 1.3787005e-20],\n",
              "       [3.8895237e-17, 2.4590349e-22, 7.4750353e-17, ..., 9.2498163e-26,\n",
              "        1.6421743e-15, 6.3002163e-22]], dtype=float32)"
            ]
          },
          "metadata": {},
          "execution_count": 84
        }
      ]
    },
    {
      "cell_type": "code",
      "source": [
        "\n",
        "predictions = (model.predict(X_test) > 0.5).astype(\"int32\")"
      ],
      "metadata": {
        "colab": {
          "base_uri": "https://localhost:8080/"
        },
        "id": "Myj58zz9FR_o",
        "outputId": "e864f468-3afa-47e5-b75a-e0fd8d817cc1"
      },
      "execution_count": null,
      "outputs": [
        {
          "output_type": "stream",
          "name": "stdout",
          "text": [
            "313/313 [==============================] - 0s 1ms/step\n"
          ]
        }
      ]
    },
    {
      "cell_type": "code",
      "source": [
        "predictions"
      ],
      "metadata": {
        "colab": {
          "base_uri": "https://localhost:8080/"
        },
        "id": "O2oH2pPsFW1h",
        "outputId": "59a82279-88ee-48e0-93d0-cb57f545d298"
      },
      "execution_count": null,
      "outputs": [
        {
          "output_type": "execute_result",
          "data": {
            "text/plain": [
              "array([[0, 0, 0, ..., 1, 0, 0],\n",
              "       [0, 0, 1, ..., 0, 0, 0],\n",
              "       [0, 1, 0, ..., 0, 0, 0],\n",
              "       ...,\n",
              "       [0, 0, 0, ..., 0, 0, 0],\n",
              "       [0, 0, 0, ..., 0, 0, 0],\n",
              "       [0, 0, 0, ..., 0, 0, 0]], dtype=int32)"
            ]
          },
          "metadata": {},
          "execution_count": 86
        }
      ]
    },
    {
      "cell_type": "code",
      "source": [
        "plt.imshow(X_test[0])"
      ],
      "metadata": {
        "colab": {
          "base_uri": "https://localhost:8080/",
          "height": 282
        },
        "id": "fHMPrFSAFsLg",
        "outputId": "3b25f2f8-652e-4e09-e90a-a98034d9e192"
      },
      "execution_count": null,
      "outputs": [
        {
          "output_type": "execute_result",
          "data": {
            "text/plain": [
              "<matplotlib.image.AxesImage at 0x7f4dad3b2650>"
            ]
          },
          "metadata": {},
          "execution_count": 87
        },
        {
          "output_type": "display_data",
          "data": {
            "text/plain": [
              "<Figure size 432x288 with 1 Axes>"
            ],
            "image/png": "[encoded data removed]"
          },
          "metadata": {
            "needs_background": "light"
          }
        }
      ]
    },
    {
      "cell_type": "code",
      "source": [
        "plt.plot(history.history['loss'])\n",
        "plt.plot(history.history['val_loss'])"
      ],
      "metadata": {
        "colab": {
          "base_uri": "https://localhost:8080/",
          "height": 282
        },
        "id": "2BFr8GbCFwH0",
        "outputId": "991fbd3a-9226-49de-937b-85f75e443388"
      },
      "execution_count": null,
      "outputs": [
        {
          "output_type": "execute_result",
          "data": {
            "text/plain": [
              "[<matplotlib.lines.Line2D at 0x7f4dad343610>]"
            ]
          },
          "metadata": {},
          "execution_count": 92
        },
        {
          "output_type": "display_data",
          "data": {
            "text/plain": [
              "<Figure size 432x288 with 1 Axes>"
            ],
            "image/png": "[encoded data removed]"
          },
          "metadata": {
            "needs_background": "light"
          }
        }
      ]
    },
    {
      "cell_type": "code",
      "source": [
        "plt.plot(history.history['accuracy'])\n",
        "plt.plot(history.history['val_accuracy'])"
      ],
      "metadata": {
        "colab": {
          "base_uri": "https://localhost:8080/",
          "height": 282
        },
        "id": "Lu-Q8ZumHNmH",
        "outputId": "7a63bb7a-e55a-48a8-81ab-3c4fc3f3b271"
      },
      "execution_count": null,
      "outputs": [
        {
          "output_type": "execute_result",
          "data": {
            "text/plain": [
              "[<matplotlib.lines.Line2D at 0x7f4db382dc90>]"
            ]
          },
          "metadata": {},
          "execution_count": 94
        },
        {
          "output_type": "display_data",
          "data": {
            "text/plain": [
              "<Figure size 432x288 with 1 Axes>"
            ],
            "image/png": "[encoded data removed]"
          },
          "metadata": {
            "needs_background": "light"
          }
        }
      ]
    },
    {
      "cell_type": "code",
      "source": [],
      "metadata": {
        "id": "H7Q8jR1HIoOx"
      },
      "execution_count": null,
      "outputs": []
    }
  ]
}