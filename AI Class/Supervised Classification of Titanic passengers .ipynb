{
 "cells": [
  {
   "cell_type": "code",
   "execution_count": 6,
   "id": "38ca13b4",
   "metadata": {},
   "outputs": [],
   "source": [
    "import numpy as np\n",
    "import pandas as pd\n",
    "from sklearn.linear_model import LogisticRegression\n",
    "\n",
    "from sklearn.model_selection import train_test_split\n",
    "from sklearn.metrics import confusion_matrix,accuracy_score,classification_report\n",
    "from sklearn.preprocessing import StandardScaler\n",
    "\n",
    "import warnings\n",
    "warnings.filterwarnings(\"ignore\")"
   ]
  },
  {
   "cell_type": "code",
   "execution_count": 150,
   "id": "d9bdac3c",
   "metadata": {},
   "outputs": [],
   "source": [
    "\n",
    "# importing libraries for KNN\n",
    "\n",
    "from sklearn.neighbors import NearestNeighbors\n",
    "from sklearn.neighbors import KNeighborsClassifier\n",
    "from sklearn.discriminant_analysis import LinearDiscriminantAnalysis\n",
    "from sklearn import metrics\n",
    "from sklearn.metrics import accuracy_score\n",
    "from sklearn.metrics import precision_recall_fscore_support\n",
    "from sklearn.model_selection import cross_val_score\n",
    "from sklearn.model_selection import KFold\n",
    "from collections import Counter\n",
    "from sklearn.model_selection import cross_validate\n",
    "\n"
   ]
  },
  {
   "cell_type": "code",
   "execution_count": 8,
   "id": "82d5cf69",
   "metadata": {},
   "outputs": [],
   "source": [
    "df = pd.read_csv(\"train.csv\")"
   ]
  },
  {
   "cell_type": "code",
   "execution_count": 9,
   "id": "a77c8e6f",
   "metadata": {},
   "outputs": [],
   "source": [
    "#Handling Embarked feature by replace the missing values with the most common value\n",
    "\n",
    "df['Embarked'].fillna(df['Embarked'].mode()[0], inplace=True)"
   ]
  },
  {
   "cell_type": "code",
   "execution_count": 10,
   "id": "d81faba3",
   "metadata": {},
   "outputs": [
    {
     "data": {
      "text/html": [
       "<div>\n",
       "<style scoped>\n",
       "    .dataframe tbody tr th:only-of-type {\n",
       "        vertical-align: middle;\n",
       "    }\n",
       "\n",
       "    .dataframe tbody tr th {\n",
       "        vertical-align: top;\n",
       "    }\n",
       "\n",
       "    .dataframe thead th {\n",
       "        text-align: right;\n",
       "    }\n",
       "</style>\n",
       "<table border=\"1\" class=\"dataframe\">\n",
       "  <thead>\n",
       "    <tr style=\"text-align: right;\">\n",
       "      <th></th>\n",
       "      <th>PassengerId</th>\n",
       "      <th>Survived</th>\n",
       "      <th>Pclass</th>\n",
       "      <th>Name</th>\n",
       "      <th>Sex</th>\n",
       "      <th>Age</th>\n",
       "      <th>SibSp</th>\n",
       "      <th>Parch</th>\n",
       "      <th>Ticket</th>\n",
       "      <th>Fare</th>\n",
       "      <th>Cabin</th>\n",
       "      <th>Embarked</th>\n",
       "      <th>Deck</th>\n",
       "    </tr>\n",
       "  </thead>\n",
       "  <tbody>\n",
       "    <tr>\n",
       "      <th>0</th>\n",
       "      <td>1</td>\n",
       "      <td>0</td>\n",
       "      <td>3</td>\n",
       "      <td>Braund, Mr. Owen Harris</td>\n",
       "      <td>male</td>\n",
       "      <td>22.0</td>\n",
       "      <td>1</td>\n",
       "      <td>0</td>\n",
       "      <td>A/5 21171</td>\n",
       "      <td>7.2500</td>\n",
       "      <td>NaN</td>\n",
       "      <td>S</td>\n",
       "      <td>N</td>\n",
       "    </tr>\n",
       "    <tr>\n",
       "      <th>1</th>\n",
       "      <td>2</td>\n",
       "      <td>1</td>\n",
       "      <td>1</td>\n",
       "      <td>Cumings, Mrs. John Bradley (Florence Briggs Th...</td>\n",
       "      <td>female</td>\n",
       "      <td>38.0</td>\n",
       "      <td>1</td>\n",
       "      <td>0</td>\n",
       "      <td>PC 17599</td>\n",
       "      <td>71.2833</td>\n",
       "      <td>C85</td>\n",
       "      <td>C</td>\n",
       "      <td>C</td>\n",
       "    </tr>\n",
       "    <tr>\n",
       "      <th>2</th>\n",
       "      <td>3</td>\n",
       "      <td>1</td>\n",
       "      <td>3</td>\n",
       "      <td>Heikkinen, Miss. Laina</td>\n",
       "      <td>female</td>\n",
       "      <td>26.0</td>\n",
       "      <td>0</td>\n",
       "      <td>0</td>\n",
       "      <td>STON/O2. 3101282</td>\n",
       "      <td>7.9250</td>\n",
       "      <td>NaN</td>\n",
       "      <td>S</td>\n",
       "      <td>N</td>\n",
       "    </tr>\n",
       "    <tr>\n",
       "      <th>3</th>\n",
       "      <td>4</td>\n",
       "      <td>1</td>\n",
       "      <td>1</td>\n",
       "      <td>Futrelle, Mrs. Jacques Heath (Lily May Peel)</td>\n",
       "      <td>female</td>\n",
       "      <td>35.0</td>\n",
       "      <td>1</td>\n",
       "      <td>0</td>\n",
       "      <td>113803</td>\n",
       "      <td>53.1000</td>\n",
       "      <td>C123</td>\n",
       "      <td>S</td>\n",
       "      <td>C</td>\n",
       "    </tr>\n",
       "    <tr>\n",
       "      <th>4</th>\n",
       "      <td>5</td>\n",
       "      <td>0</td>\n",
       "      <td>3</td>\n",
       "      <td>Allen, Mr. William Henry</td>\n",
       "      <td>male</td>\n",
       "      <td>35.0</td>\n",
       "      <td>0</td>\n",
       "      <td>0</td>\n",
       "      <td>373450</td>\n",
       "      <td>8.0500</td>\n",
       "      <td>NaN</td>\n",
       "      <td>S</td>\n",
       "      <td>N</td>\n",
       "    </tr>\n",
       "    <tr>\n",
       "      <th>...</th>\n",
       "      <td>...</td>\n",
       "      <td>...</td>\n",
       "      <td>...</td>\n",
       "      <td>...</td>\n",
       "      <td>...</td>\n",
       "      <td>...</td>\n",
       "      <td>...</td>\n",
       "      <td>...</td>\n",
       "      <td>...</td>\n",
       "      <td>...</td>\n",
       "      <td>...</td>\n",
       "      <td>...</td>\n",
       "      <td>...</td>\n",
       "    </tr>\n",
       "    <tr>\n",
       "      <th>886</th>\n",
       "      <td>887</td>\n",
       "      <td>0</td>\n",
       "      <td>2</td>\n",
       "      <td>Montvila, Rev. Juozas</td>\n",
       "      <td>male</td>\n",
       "      <td>27.0</td>\n",
       "      <td>0</td>\n",
       "      <td>0</td>\n",
       "      <td>211536</td>\n",
       "      <td>13.0000</td>\n",
       "      <td>NaN</td>\n",
       "      <td>S</td>\n",
       "      <td>N</td>\n",
       "    </tr>\n",
       "    <tr>\n",
       "      <th>887</th>\n",
       "      <td>888</td>\n",
       "      <td>1</td>\n",
       "      <td>1</td>\n",
       "      <td>Graham, Miss. Margaret Edith</td>\n",
       "      <td>female</td>\n",
       "      <td>19.0</td>\n",
       "      <td>0</td>\n",
       "      <td>0</td>\n",
       "      <td>112053</td>\n",
       "      <td>30.0000</td>\n",
       "      <td>B42</td>\n",
       "      <td>S</td>\n",
       "      <td>B</td>\n",
       "    </tr>\n",
       "    <tr>\n",
       "      <th>888</th>\n",
       "      <td>889</td>\n",
       "      <td>0</td>\n",
       "      <td>3</td>\n",
       "      <td>Johnston, Miss. Catherine Helen \"Carrie\"</td>\n",
       "      <td>female</td>\n",
       "      <td>NaN</td>\n",
       "      <td>1</td>\n",
       "      <td>2</td>\n",
       "      <td>W./C. 6607</td>\n",
       "      <td>23.4500</td>\n",
       "      <td>NaN</td>\n",
       "      <td>S</td>\n",
       "      <td>N</td>\n",
       "    </tr>\n",
       "    <tr>\n",
       "      <th>889</th>\n",
       "      <td>890</td>\n",
       "      <td>1</td>\n",
       "      <td>1</td>\n",
       "      <td>Behr, Mr. Karl Howell</td>\n",
       "      <td>male</td>\n",
       "      <td>26.0</td>\n",
       "      <td>0</td>\n",
       "      <td>0</td>\n",
       "      <td>111369</td>\n",
       "      <td>30.0000</td>\n",
       "      <td>C148</td>\n",
       "      <td>C</td>\n",
       "      <td>C</td>\n",
       "    </tr>\n",
       "    <tr>\n",
       "      <th>890</th>\n",
       "      <td>891</td>\n",
       "      <td>0</td>\n",
       "      <td>3</td>\n",
       "      <td>Dooley, Mr. Patrick</td>\n",
       "      <td>male</td>\n",
       "      <td>32.0</td>\n",
       "      <td>0</td>\n",
       "      <td>0</td>\n",
       "      <td>370376</td>\n",
       "      <td>7.7500</td>\n",
       "      <td>NaN</td>\n",
       "      <td>Q</td>\n",
       "      <td>N</td>\n",
       "    </tr>\n",
       "  </tbody>\n",
       "</table>\n",
       "<p>891 rows × 13 columns</p>\n",
       "</div>"
      ],
      "text/plain": [
       "     PassengerId  Survived  Pclass  \\\n",
       "0              1         0       3   \n",
       "1              2         1       1   \n",
       "2              3         1       3   \n",
       "3              4         1       1   \n",
       "4              5         0       3   \n",
       "..           ...       ...     ...   \n",
       "886          887         0       2   \n",
       "887          888         1       1   \n",
       "888          889         0       3   \n",
       "889          890         1       1   \n",
       "890          891         0       3   \n",
       "\n",
       "                                                  Name     Sex   Age  SibSp  \\\n",
       "0                              Braund, Mr. Owen Harris    male  22.0      1   \n",
       "1    Cumings, Mrs. John Bradley (Florence Briggs Th...  female  38.0      1   \n",
       "2                               Heikkinen, Miss. Laina  female  26.0      0   \n",
       "3         Futrelle, Mrs. Jacques Heath (Lily May Peel)  female  35.0      1   \n",
       "4                             Allen, Mr. William Henry    male  35.0      0   \n",
       "..                                                 ...     ...   ...    ...   \n",
       "886                              Montvila, Rev. Juozas    male  27.0      0   \n",
       "887                       Graham, Miss. Margaret Edith  female  19.0      0   \n",
       "888           Johnston, Miss. Catherine Helen \"Carrie\"  female   NaN      1   \n",
       "889                              Behr, Mr. Karl Howell    male  26.0      0   \n",
       "890                                Dooley, Mr. Patrick    male  32.0      0   \n",
       "\n",
       "     Parch            Ticket     Fare Cabin Embarked Deck  \n",
       "0        0         A/5 21171   7.2500   NaN        S    N  \n",
       "1        0          PC 17599  71.2833   C85        C    C  \n",
       "2        0  STON/O2. 3101282   7.9250   NaN        S    N  \n",
       "3        0            113803  53.1000  C123        S    C  \n",
       "4        0            373450   8.0500   NaN        S    N  \n",
       "..     ...               ...      ...   ...      ...  ...  \n",
       "886      0            211536  13.0000   NaN        S    N  \n",
       "887      0            112053  30.0000   B42        S    B  \n",
       "888      2        W./C. 6607  23.4500   NaN        S    N  \n",
       "889      0            111369  30.0000  C148        C    C  \n",
       "890      0            370376   7.7500   NaN        Q    N  \n",
       "\n",
       "[891 rows x 13 columns]"
      ]
     },
     "execution_count": 10,
     "metadata": {},
     "output_type": "execute_result"
    }
   ],
   "source": [
    "#Handling Cabin feature by making a new featur \"Deck\" taking the fist letter and replace the missing values with 'N'\n",
    "\n",
    "df['Deck']=df[\"Cabin\"]\n",
    "df['Deck']=df[\"Deck\"].str.slice(0,1)\n",
    "df['Deck']=df[\"Deck\"].fillna(\"N\")\n",
    "df"
   ]
  },
  {
   "cell_type": "code",
   "execution_count": 11,
   "id": "9234615b",
   "metadata": {},
   "outputs": [],
   "source": [
    "#change the 'sex' , 'Embarked' , 'Deck' to numbers\n",
    "df['Sex']=pd.get_dummies(df['Sex'],drop_first=True)\n",
    "\n",
    "df.Embarked.replace(['S', 'C', 'Q'], [1, 2, 3], inplace=True)\n",
    "\n",
    "df.Deck.replace(['N', 'C', 'E', 'G', 'D', 'A', 'B', 'F', 'T'], [1, 2, 3,4,5,6,7,8,9], inplace=True)\n",
    "\n"
   ]
  },
  {
   "cell_type": "code",
   "execution_count": 14,
   "id": "35d708ca",
   "metadata": {},
   "outputs": [],
   "source": [
    "##not for this session\n",
    "#First method of age\n",
    "#use sklearn to applay the Linear Regression to predict the missing values of the age\n",
    "from sklearn.linear_model import LinearRegression\n",
    "lin=LinearRegression()\n",
    "data_with_null=df[['Survived' ,'Pclass','SibSp','Parch','Fare','Deck','Embarked','Age']]\n",
    "data_without_null=data_with_null.dropna()\n",
    "train=data_without_null.iloc[:,:7]\n",
    "target=data_without_null.iloc[:,7]\n",
    "lin.fit(train,target)\n",
    "test=data_with_null.iloc[:,:7]\n",
    "pridect_Age=pd.DataFrame(lin.predict(test))\n",
    "\n",
    "data_with_null.Age.fillna(pridect_Age[0] ,inplace=True)\n",
    "\n",
    "df['pridect_Age']=data_with_null.Age.astype(int)\n"
   ]
  },
  {
   "cell_type": "code",
   "execution_count": 12,
   "id": "85bd14cf",
   "metadata": {},
   "outputs": [
    {
     "data": {
      "text/html": [
       "<div>\n",
       "<style scoped>\n",
       "    .dataframe tbody tr th:only-of-type {\n",
       "        vertical-align: middle;\n",
       "    }\n",
       "\n",
       "    .dataframe tbody tr th {\n",
       "        vertical-align: top;\n",
       "    }\n",
       "\n",
       "    .dataframe thead th {\n",
       "        text-align: right;\n",
       "    }\n",
       "</style>\n",
       "<table border=\"1\" class=\"dataframe\">\n",
       "  <thead>\n",
       "    <tr style=\"text-align: right;\">\n",
       "      <th></th>\n",
       "      <th>PassengerId</th>\n",
       "      <th>Survived</th>\n",
       "      <th>Pclass</th>\n",
       "      <th>Name</th>\n",
       "      <th>Sex</th>\n",
       "      <th>Age</th>\n",
       "      <th>SibSp</th>\n",
       "      <th>Parch</th>\n",
       "      <th>Ticket</th>\n",
       "      <th>Fare</th>\n",
       "      <th>Cabin</th>\n",
       "      <th>Embarked</th>\n",
       "      <th>Deck</th>\n",
       "      <th>KNN_pridect_Age</th>\n",
       "    </tr>\n",
       "  </thead>\n",
       "  <tbody>\n",
       "    <tr>\n",
       "      <th>0</th>\n",
       "      <td>1</td>\n",
       "      <td>0</td>\n",
       "      <td>3</td>\n",
       "      <td>Braund, Mr. Owen Harris</td>\n",
       "      <td>1</td>\n",
       "      <td>22.0</td>\n",
       "      <td>1</td>\n",
       "      <td>0</td>\n",
       "      <td>A/5 21171</td>\n",
       "      <td>7.2500</td>\n",
       "      <td>NaN</td>\n",
       "      <td>1</td>\n",
       "      <td>1</td>\n",
       "      <td>22</td>\n",
       "    </tr>\n",
       "    <tr>\n",
       "      <th>1</th>\n",
       "      <td>2</td>\n",
       "      <td>1</td>\n",
       "      <td>1</td>\n",
       "      <td>Cumings, Mrs. John Bradley (Florence Briggs Th...</td>\n",
       "      <td>0</td>\n",
       "      <td>38.0</td>\n",
       "      <td>1</td>\n",
       "      <td>0</td>\n",
       "      <td>PC 17599</td>\n",
       "      <td>71.2833</td>\n",
       "      <td>C85</td>\n",
       "      <td>2</td>\n",
       "      <td>2</td>\n",
       "      <td>38</td>\n",
       "    </tr>\n",
       "    <tr>\n",
       "      <th>2</th>\n",
       "      <td>3</td>\n",
       "      <td>1</td>\n",
       "      <td>3</td>\n",
       "      <td>Heikkinen, Miss. Laina</td>\n",
       "      <td>0</td>\n",
       "      <td>26.0</td>\n",
       "      <td>0</td>\n",
       "      <td>0</td>\n",
       "      <td>STON/O2. 3101282</td>\n",
       "      <td>7.9250</td>\n",
       "      <td>NaN</td>\n",
       "      <td>1</td>\n",
       "      <td>1</td>\n",
       "      <td>26</td>\n",
       "    </tr>\n",
       "    <tr>\n",
       "      <th>3</th>\n",
       "      <td>4</td>\n",
       "      <td>1</td>\n",
       "      <td>1</td>\n",
       "      <td>Futrelle, Mrs. Jacques Heath (Lily May Peel)</td>\n",
       "      <td>0</td>\n",
       "      <td>35.0</td>\n",
       "      <td>1</td>\n",
       "      <td>0</td>\n",
       "      <td>113803</td>\n",
       "      <td>53.1000</td>\n",
       "      <td>C123</td>\n",
       "      <td>1</td>\n",
       "      <td>2</td>\n",
       "      <td>35</td>\n",
       "    </tr>\n",
       "    <tr>\n",
       "      <th>4</th>\n",
       "      <td>5</td>\n",
       "      <td>0</td>\n",
       "      <td>3</td>\n",
       "      <td>Allen, Mr. William Henry</td>\n",
       "      <td>1</td>\n",
       "      <td>35.0</td>\n",
       "      <td>0</td>\n",
       "      <td>0</td>\n",
       "      <td>373450</td>\n",
       "      <td>8.0500</td>\n",
       "      <td>NaN</td>\n",
       "      <td>1</td>\n",
       "      <td>1</td>\n",
       "      <td>35</td>\n",
       "    </tr>\n",
       "    <tr>\n",
       "      <th>...</th>\n",
       "      <td>...</td>\n",
       "      <td>...</td>\n",
       "      <td>...</td>\n",
       "      <td>...</td>\n",
       "      <td>...</td>\n",
       "      <td>...</td>\n",
       "      <td>...</td>\n",
       "      <td>...</td>\n",
       "      <td>...</td>\n",
       "      <td>...</td>\n",
       "      <td>...</td>\n",
       "      <td>...</td>\n",
       "      <td>...</td>\n",
       "      <td>...</td>\n",
       "    </tr>\n",
       "    <tr>\n",
       "      <th>886</th>\n",
       "      <td>887</td>\n",
       "      <td>0</td>\n",
       "      <td>2</td>\n",
       "      <td>Montvila, Rev. Juozas</td>\n",
       "      <td>1</td>\n",
       "      <td>27.0</td>\n",
       "      <td>0</td>\n",
       "      <td>0</td>\n",
       "      <td>211536</td>\n",
       "      <td>13.0000</td>\n",
       "      <td>NaN</td>\n",
       "      <td>1</td>\n",
       "      <td>1</td>\n",
       "      <td>27</td>\n",
       "    </tr>\n",
       "    <tr>\n",
       "      <th>887</th>\n",
       "      <td>888</td>\n",
       "      <td>1</td>\n",
       "      <td>1</td>\n",
       "      <td>Graham, Miss. Margaret Edith</td>\n",
       "      <td>0</td>\n",
       "      <td>19.0</td>\n",
       "      <td>0</td>\n",
       "      <td>0</td>\n",
       "      <td>112053</td>\n",
       "      <td>30.0000</td>\n",
       "      <td>B42</td>\n",
       "      <td>1</td>\n",
       "      <td>7</td>\n",
       "      <td>19</td>\n",
       "    </tr>\n",
       "    <tr>\n",
       "      <th>888</th>\n",
       "      <td>889</td>\n",
       "      <td>0</td>\n",
       "      <td>3</td>\n",
       "      <td>Johnston, Miss. Catherine Helen \"Carrie\"</td>\n",
       "      <td>0</td>\n",
       "      <td>NaN</td>\n",
       "      <td>1</td>\n",
       "      <td>2</td>\n",
       "      <td>W./C. 6607</td>\n",
       "      <td>23.4500</td>\n",
       "      <td>NaN</td>\n",
       "      <td>1</td>\n",
       "      <td>1</td>\n",
       "      <td>33</td>\n",
       "    </tr>\n",
       "    <tr>\n",
       "      <th>889</th>\n",
       "      <td>890</td>\n",
       "      <td>1</td>\n",
       "      <td>1</td>\n",
       "      <td>Behr, Mr. Karl Howell</td>\n",
       "      <td>1</td>\n",
       "      <td>26.0</td>\n",
       "      <td>0</td>\n",
       "      <td>0</td>\n",
       "      <td>111369</td>\n",
       "      <td>30.0000</td>\n",
       "      <td>C148</td>\n",
       "      <td>2</td>\n",
       "      <td>2</td>\n",
       "      <td>26</td>\n",
       "    </tr>\n",
       "    <tr>\n",
       "      <th>890</th>\n",
       "      <td>891</td>\n",
       "      <td>0</td>\n",
       "      <td>3</td>\n",
       "      <td>Dooley, Mr. Patrick</td>\n",
       "      <td>1</td>\n",
       "      <td>32.0</td>\n",
       "      <td>0</td>\n",
       "      <td>0</td>\n",
       "      <td>370376</td>\n",
       "      <td>7.7500</td>\n",
       "      <td>NaN</td>\n",
       "      <td>3</td>\n",
       "      <td>1</td>\n",
       "      <td>32</td>\n",
       "    </tr>\n",
       "  </tbody>\n",
       "</table>\n",
       "<p>891 rows × 14 columns</p>\n",
       "</div>"
      ],
      "text/plain": [
       "     PassengerId  Survived  Pclass  \\\n",
       "0              1         0       3   \n",
       "1              2         1       1   \n",
       "2              3         1       3   \n",
       "3              4         1       1   \n",
       "4              5         0       3   \n",
       "..           ...       ...     ...   \n",
       "886          887         0       2   \n",
       "887          888         1       1   \n",
       "888          889         0       3   \n",
       "889          890         1       1   \n",
       "890          891         0       3   \n",
       "\n",
       "                                                  Name  Sex   Age  SibSp  \\\n",
       "0                              Braund, Mr. Owen Harris    1  22.0      1   \n",
       "1    Cumings, Mrs. John Bradley (Florence Briggs Th...    0  38.0      1   \n",
       "2                               Heikkinen, Miss. Laina    0  26.0      0   \n",
       "3         Futrelle, Mrs. Jacques Heath (Lily May Peel)    0  35.0      1   \n",
       "4                             Allen, Mr. William Henry    1  35.0      0   \n",
       "..                                                 ...  ...   ...    ...   \n",
       "886                              Montvila, Rev. Juozas    1  27.0      0   \n",
       "887                       Graham, Miss. Margaret Edith    0  19.0      0   \n",
       "888           Johnston, Miss. Catherine Helen \"Carrie\"    0   NaN      1   \n",
       "889                              Behr, Mr. Karl Howell    1  26.0      0   \n",
       "890                                Dooley, Mr. Patrick    1  32.0      0   \n",
       "\n",
       "     Parch            Ticket     Fare Cabin  Embarked  Deck  KNN_pridect_Age  \n",
       "0        0         A/5 21171   7.2500   NaN         1     1               22  \n",
       "1        0          PC 17599  71.2833   C85         2     2               38  \n",
       "2        0  STON/O2. 3101282   7.9250   NaN         1     1               26  \n",
       "3        0            113803  53.1000  C123         1     2               35  \n",
       "4        0            373450   8.0500   NaN         1     1               35  \n",
       "..     ...               ...      ...   ...       ...   ...              ...  \n",
       "886      0            211536  13.0000   NaN         1     1               27  \n",
       "887      0            112053  30.0000   B42         1     7               19  \n",
       "888      2        W./C. 6607  23.4500   NaN         1     1               33  \n",
       "889      0            111369  30.0000  C148         2     2               26  \n",
       "890      0            370376   7.7500   NaN         3     1               32  \n",
       "\n",
       "[891 rows x 14 columns]"
      ]
     },
     "execution_count": 12,
     "metadata": {},
     "output_type": "execute_result"
    }
   ],
   "source": [
    "##not for this session\n",
    "#Second method of age\n",
    "#use sklearn to applay the KNNImputer to predict the missing values of the age\n",
    "from sklearn.impute import KNNImputer\n",
    "imputer=KNNImputer(n_neighbors=2)\n",
    "df_filled=pd.DataFrame(imputer.fit_transform(df[['Survived' ,'Pclass','SibSp','Parch','Fare','Deck','Embarked','Age']]),)\n",
    "df['KNN_pridect_Age']=df_filled[7].astype(int)\n",
    "df"
   ]
  },
  {
   "cell_type": "code",
   "execution_count": 18,
   "id": "ff1b0ef9",
   "metadata": {},
   "outputs": [
    {
     "data": {
      "text/plain": [
       "array(['Mr', 'Mrs', 'Miss', 'Master', 'Don', 'Rev', 'Dr', 'Mme', 'Ms',\n",
       "       'Major', 'Lady', 'Sir', 'Mlle', 'Col', 'Capt', 'Countess',\n",
       "       'Jonkheer'], dtype=object)"
      ]
     },
     "execution_count": 18,
     "metadata": {},
     "output_type": "execute_result"
    }
   ],
   "source": [
    "##not for this session\n",
    "#Third method of age\n",
    "\n",
    "#Extract the titles of name to calculate the mean age of each title\n",
    "df['Title'] = df['Name'].str.extract('([A-Za-z]+)\\.', expand=True)\n",
    "df['Title'].unique()"
   ]
  },
  {
   "cell_type": "code",
   "execution_count": 19,
   "id": "66368480",
   "metadata": {},
   "outputs": [
    {
     "data": {
      "text/plain": [
       "array(['Mr', 'Mrs', 'Miss', 'Master', 'Rev', 'Dr'], dtype=object)"
      ]
     },
     "execution_count": 19,
     "metadata": {},
     "output_type": "execute_result"
    }
   ],
   "source": [
    "##not for this session\n",
    "title_reduction = {'Mr': 'Mr', 'Mrs': 'Mrs', 'Miss': 'Miss', \n",
    "                   'Master': 'Master', 'Don': 'Mr', 'Rev': 'Rev',\n",
    "                   'Dr': 'Dr', 'Mme': 'Miss', 'Ms': 'Miss',\n",
    "                   'Major': 'Mr', 'Lady': 'Mrs', 'Sir': 'Mr',\n",
    "                   'Mlle': 'Miss', 'Col': 'Mr', 'Capt': 'Mr',\n",
    "                   'Countess': 'Mrs','Jonkheer': 'Mr',\n",
    "                   'Dona': 'Mrs'}\n",
    "df['Title'] = df['Title'].map(title_reduction)\n",
    "df['Title'].unique()"
   ]
  },
  {
   "cell_type": "code",
   "execution_count": 20,
   "id": "6b3d2360",
   "metadata": {},
   "outputs": [
    {
     "name": "stdout",
     "output_type": "stream",
     "text": [
      "Dr 42.0\n",
      "Master 4.574166666666667\n",
      "Miss 21.86\n",
      "Mr 32.74014778325123\n",
      "Mrs 35.981818181818184\n",
      "Rev 43.166666666666664\n"
     ]
    },
    {
     "data": {
      "text/plain": [
       "PassengerId          0\n",
       "Survived             0\n",
       "Pclass               0\n",
       "Name                 0\n",
       "Sex                  0\n",
       "Age                  0\n",
       "SibSp                0\n",
       "Parch                0\n",
       "Ticket               0\n",
       "Fare                 0\n",
       "Cabin              687\n",
       "Embarked             0\n",
       "Deck                 0\n",
       "KNN_pridect_Age      0\n",
       "pridect_Age          0\n",
       "Title                0\n",
       "dtype: int64"
      ]
     },
     "execution_count": 20,
     "metadata": {},
     "output_type": "execute_result"
    }
   ],
   "source": [
    "##not for this session\n",
    "#replacing NaN with the mean value of each title\n",
    "for title, age in df.groupby('Title')['Age'].mean().iteritems():\n",
    "    print(title, age)\n",
    "    df.loc[(df['Title']==title) & (df['Age'].isnull()), 'Age'] = age\n",
    "\n",
    "df.isnull().sum()"
   ]
  },
  {
   "cell_type": "code",
   "execution_count": 21,
   "id": "b7657021",
   "metadata": {},
   "outputs": [],
   "source": [
    "df['Age']=df['Age'].astype(int)\n"
   ]
  },
  {
   "cell_type": "code",
   "execution_count": 22,
   "id": "bb755420",
   "metadata": {},
   "outputs": [],
   "source": [
    "df.drop(['Name','Ticket','Cabin','Title'] ,axis=1 , inplace=True)"
   ]
  },
  {
   "cell_type": "code",
   "execution_count": 23,
   "id": "67ce03c9",
   "metadata": {},
   "outputs": [
    {
     "data": {
      "image/png": "[encoded data removed]",
      "text/plain": [
       "<Figure size 720x576 with 2 Axes>"
      ]
     },
     "metadata": {
      "needs_background": "light"
     },
     "output_type": "display_data"
    }
   ],
   "source": [
    "#session start\n",
    "#Finding correlations to determine the necessary features by heatmap\n",
    "import matplotlib.pyplot as plt\n",
    "\n",
    "import seaborn as sns\n",
    "plt.figure(figsize=(10,8))\n",
    "sns.heatmap(df.corr(),annot=True)\n",
    "plt.show()\n"
   ]
  },
  {
   "cell_type": "code",
   "execution_count": 15,
   "id": "a86e4236",
   "metadata": {},
   "outputs": [],
   "source": [
    "#First : Age by the mean value of title"
   ]
  },
  {
   "cell_type": "code",
   "execution_count": 24,
   "id": "e746ad15",
   "metadata": {},
   "outputs": [],
   "source": [
    "#determine the necessary features \n",
    "X=df[['Pclass', 'Sex', 'Age', 'SibSp', 'Parch','Fare','Embarked' ,'Deck']]\n",
    "y=df['Survived']\n",
    "\n",
    "#split dataset by 0.25 for test data\n",
    "X_train,X_test,y_train,y_test=train_test_split(X,y,test_size=0.25)"
   ]
  },
  {
   "cell_type": "code",
   "execution_count": 25,
   "id": "057b5ccd",
   "metadata": {},
   "outputs": [],
   "source": [
    "#Logistic Regression\n",
    "\n",
    "LR=LogisticRegression().fit(X_train,y_train)"
   ]
  },
  {
   "cell_type": "code",
   "execution_count": 18,
   "id": "ef734fd0",
   "metadata": {},
   "outputs": [],
   "source": [
    "y_predict=LR.predict(X_test)"
   ]
  },
  {
   "cell_type": "code",
   "execution_count": 19,
   "id": "0fd12c45",
   "metadata": {},
   "outputs": [],
   "source": [
    "con_mat=confusion_matrix(y_test,y_predict)"
   ]
  },
  {
   "cell_type": "code",
   "execution_count": 20,
   "id": "eabd43a7",
   "metadata": {},
   "outputs": [],
   "source": [
    "con_mat=pd.DataFrame(con_mat,columns=['predicted No','predicted Yes'],index=['actual No','actual Yes'])"
   ]
  },
  {
   "cell_type": "code",
   "execution_count": 21,
   "id": "d967f100",
   "metadata": {},
   "outputs": [
    {
     "name": "stdout",
     "output_type": "stream",
     "text": [
      "            predicted No  predicted Yes\n",
      "actual No            121             20\n",
      "actual Yes            20             62\n"
     ]
    }
   ],
   "source": [
    "print(con_mat)"
   ]
  },
  {
   "cell_type": "code",
   "execution_count": 22,
   "id": "a7977da3",
   "metadata": {},
   "outputs": [],
   "source": [
    "score=accuracy_score(y_predict,y_test)"
   ]
  },
  {
   "cell_type": "code",
   "execution_count": 23,
   "id": "2968244b",
   "metadata": {},
   "outputs": [
    {
     "name": "stdout",
     "output_type": "stream",
     "text": [
      "0.820627802690583\n"
     ]
    }
   ],
   "source": [
    "print(score)"
   ]
  },
  {
   "cell_type": "code",
   "execution_count": null,
   "id": "7121ce6d",
   "metadata": {},
   "outputs": [],
   "source": []
  },
  {
   "cell_type": "code",
   "execution_count": 24,
   "id": "f3fc3e23",
   "metadata": {},
   "outputs": [
    {
     "name": "stdout",
     "output_type": "stream",
     "text": [
      "\n",
      " CV accuracy for k=1 is 68\n",
      "\n",
      " CV accuracy for k=2 is 69\n",
      "\n",
      " CV accuracy for k=3 is 69\n",
      "\n",
      " CV accuracy for k=4 is 70\n",
      "\n",
      " CV accuracy for k=5 is 70\n",
      "\n",
      " CV accuracy for k=6 is 69\n",
      "\n",
      " CV accuracy for k=7 is 69\n",
      "\n",
      " CV accuracy for k=8 is 69\n",
      "\n",
      " CV accuracy for k=9 is 71\n",
      "\n",
      " CV accuracy for k=10 is 70\n",
      "\n",
      " CV accuracy for k=11 is 70\n",
      "\n",
      " CV accuracy for k=12 is 69\n",
      "\n",
      " CV accuracy for k=13 is 70\n",
      "\n",
      " CV accuracy for k=14 is 70\n",
      "\n",
      " CV accuracy for k=15 is 70\n",
      "\n",
      " CV accuracy for k=16 is 70\n",
      "\n",
      " CV accuracy for k=17 is 69\n",
      "\n",
      " CV accuracy for k=18 is 69\n",
      "\n",
      " CV accuracy for k=19 is 69\n",
      "8\n"
     ]
    }
   ],
   "source": [
    "#KNN\n",
    "final_scores = []\n",
    "for i in range(1,20,1):\n",
    "    knn = KNeighborsClassifier(n_neighbors = i)\n",
    "    knn.fit(X_train, y_train)\n",
    "    pred = knn.predict(X_test)\n",
    "    acc = accuracy_score(y_test, pred, normalize=True) * float(100)\n",
    "    final_scores.append(acc)\n",
    "    print('\\n CV accuracy for k=%d is %d'%(i,acc))\n",
    "optimal_k = final_scores.index(max(final_scores))\n",
    "print(optimal_k)\n",
    "    \n",
    "\n"
   ]
  },
  {
   "cell_type": "code",
   "execution_count": 25,
   "id": "ccc77ee5",
   "metadata": {},
   "outputs": [
    {
     "name": "stdout",
     "output_type": "stream",
     "text": [
      "[[123  18]\n",
      " [ 20  62]]\n"
     ]
    },
    {
     "data": {
      "text/plain": [
       "0.820627802690583"
      ]
     },
     "execution_count": 25,
     "metadata": {},
     "output_type": "execute_result"
    }
   ],
   "source": [
    "#Linear Discriminant Analysis\n",
    "\n",
    "from sklearn.discriminant_analysis import LinearDiscriminantAnalysis\n",
    "model = LinearDiscriminantAnalysis()\n",
    "res = model.fit(X_train, y_train).transform(X_train)\n",
    "\n",
    "\n",
    "\n",
    "y_pred= model.predict(X_test)\n",
    "model.decision_function(X_test)\n",
    "\n",
    "\n",
    "from sklearn.metrics import confusion_matrix\n",
    "confusion_matrix = confusion_matrix(y_test, y_pred)\n",
    "print(confusion_matrix)\n",
    "score=accuracy_score(y_predict,y_test)\n",
    "score"
   ]
  },
  {
   "cell_type": "code",
   "execution_count": 26,
   "id": "bacada70",
   "metadata": {},
   "outputs": [],
   "source": [
    "##Second Age by Linear Regression"
   ]
  },
  {
   "cell_type": "code",
   "execution_count": 27,
   "id": "d286dd52",
   "metadata": {
    "scrolled": true
   },
   "outputs": [],
   "source": [
    "\n",
    "X=df[['Pclass', 'Sex', 'pridect_Age', 'SibSp', 'Parch','Fare','Embarked' ,'Deck']]\n",
    "y=df['Survived']\n",
    "\n",
    "\n",
    "X_train,X_test,y_train,y_test=train_test_split(X,y,test_size=0.25)\n",
    "#Logistic Regression\n",
    "\n",
    "LR=LogisticRegression().fit(X_train,y_train)\n",
    "y_predict=LR.predict(X_test)\n"
   ]
  },
  {
   "cell_type": "code",
   "execution_count": 28,
   "id": "e0535072",
   "metadata": {},
   "outputs": [
    {
     "name": "stdout",
     "output_type": "stream",
     "text": [
      "            predicted No  predicted Yes\n",
      "actual No            121             20\n",
      "actual Yes            20             62\n",
      "0.8026905829596412\n"
     ]
    }
   ],
   "source": [
    "\n",
    "score=accuracy_score(y_predict,y_test)\n",
    "print(con_mat)\n",
    "print(score)"
   ]
  },
  {
   "cell_type": "code",
   "execution_count": 29,
   "id": "9b53a972",
   "metadata": {},
   "outputs": [
    {
     "name": "stdout",
     "output_type": "stream",
     "text": [
      "\n",
      " CV accuracy for k=1 is 70\n",
      "\n",
      " CV accuracy for k=2 is 71\n",
      "\n",
      " CV accuracy for k=3 is 72\n",
      "\n",
      " CV accuracy for k=4 is 69\n",
      "\n",
      " CV accuracy for k=5 is 72\n",
      "\n",
      " CV accuracy for k=6 is 74\n",
      "\n",
      " CV accuracy for k=7 is 74\n",
      "\n",
      " CV accuracy for k=8 is 71\n",
      "\n",
      " CV accuracy for k=9 is 73\n",
      "\n",
      " CV accuracy for k=10 is 73\n",
      "\n",
      " CV accuracy for k=11 is 75\n",
      "\n",
      " CV accuracy for k=12 is 73\n",
      "\n",
      " CV accuracy for k=13 is 74\n",
      "\n",
      " CV accuracy for k=14 is 74\n",
      "\n",
      " CV accuracy for k=15 is 75\n",
      "\n",
      " CV accuracy for k=16 is 74\n",
      "\n",
      " CV accuracy for k=17 is 75\n",
      "\n",
      " CV accuracy for k=18 is 74\n",
      "\n",
      " CV accuracy for k=19 is 73\n",
      "10\n"
     ]
    }
   ],
   "source": [
    "#KNN\n",
    "final_scores = []\n",
    "for i in range(1,20,1):\n",
    "    knn = KNeighborsClassifier(n_neighbors = i)\n",
    "    knn.fit(X_train, y_train)\n",
    "    pred = knn.predict(X_test)\n",
    "    acc = accuracy_score(y_test, pred, normalize=True) * float(100)\n",
    "    final_scores.append(acc)\n",
    "    print('\\n CV accuracy for k=%d is %d'%(i,acc))\n",
    "optimal_k = final_scores.index(max(final_scores))\n",
    "print(optimal_k)\n",
    "    \n",
    "\n"
   ]
  },
  {
   "cell_type": "code",
   "execution_count": 30,
   "id": "31c84392",
   "metadata": {},
   "outputs": [
    {
     "name": "stdout",
     "output_type": "stream",
     "text": [
      "[[111  26]\n",
      " [ 17  69]]\n"
     ]
    },
    {
     "data": {
      "text/plain": [
       "0.8026905829596412"
      ]
     },
     "execution_count": 30,
     "metadata": {},
     "output_type": "execute_result"
    }
   ],
   "source": [
    "#LinearDiscriminantAnalysis\n",
    "from sklearn.discriminant_analysis import LinearDiscriminantAnalysis\n",
    "model = LinearDiscriminantAnalysis()\n",
    "res = model.fit(X_train, y_train).transform(X_train)\n",
    "\n",
    "\n",
    "\n",
    "y_pred= model.predict(X_test)\n",
    "model.decision_function(X_test)\n",
    "\n",
    "\n",
    "from sklearn.metrics import confusion_matrix\n",
    "confusion_matrix = confusion_matrix(y_test, y_pred)\n",
    "print(confusion_matrix)\n",
    "score=accuracy_score(y_predict,y_test)\n",
    "score"
   ]
  },
  {
   "cell_type": "code",
   "execution_count": 31,
   "id": "599fe561",
   "metadata": {},
   "outputs": [],
   "source": [
    "##Third :  KNN"
   ]
  },
  {
   "cell_type": "code",
   "execution_count": 32,
   "id": "386a3959",
   "metadata": {},
   "outputs": [
    {
     "name": "stdout",
     "output_type": "stream",
     "text": [
      "            predicted No  predicted Yes\n",
      "actual No            121             20\n",
      "actual Yes            20             62\n",
      "0.8340807174887892\n"
     ]
    }
   ],
   "source": [
    "X=df[['Pclass', 'Sex', 'KNN_pridect_Age', 'SibSp', 'Parch','Fare','Embarked' ,'Deck']]\n",
    "y=df['Survived']\n",
    "\n",
    "\n",
    "X_train,X_test,y_train,y_test=train_test_split(X,y,test_size=0.25)\n",
    "\n",
    "#Logistic Regression\n",
    "LR=LogisticRegression().fit(X_train,y_train)\n",
    "y_predict=LR.predict(X_test)\n",
    "score=accuracy_score(y_predict,y_test)\n",
    "print(con_mat)\n",
    "print(score)"
   ]
  },
  {
   "cell_type": "code",
   "execution_count": 33,
   "id": "8080b998",
   "metadata": {
    "scrolled": true
   },
   "outputs": [
    {
     "name": "stdout",
     "output_type": "stream",
     "text": [
      "\n",
      " CV accuracy for k=1 is 70\n",
      "\n",
      " CV accuracy for k=2 is 68\n",
      "\n",
      " CV accuracy for k=3 is 69\n",
      "\n",
      " CV accuracy for k=4 is 70\n",
      "\n",
      " CV accuracy for k=5 is 69\n",
      "\n",
      " CV accuracy for k=6 is 71\n",
      "\n",
      " CV accuracy for k=7 is 72\n",
      "\n",
      " CV accuracy for k=8 is 73\n",
      "\n",
      " CV accuracy for k=9 is 71\n",
      "\n",
      " CV accuracy for k=10 is 72\n",
      "\n",
      " CV accuracy for k=11 is 71\n",
      "\n",
      " CV accuracy for k=12 is 73\n",
      "\n",
      " CV accuracy for k=13 is 73\n",
      "\n",
      " CV accuracy for k=14 is 73\n",
      "\n",
      " CV accuracy for k=15 is 73\n",
      "\n",
      " CV accuracy for k=16 is 71\n",
      "\n",
      " CV accuracy for k=17 is 72\n",
      "\n",
      " CV accuracy for k=18 is 72\n",
      "\n",
      " CV accuracy for k=19 is 71\n",
      "12\n"
     ]
    }
   ],
   "source": [
    "#KNN\n",
    "final_scores = []\n",
    "for i in range(1,20,1):\n",
    "    knn = KNeighborsClassifier(n_neighbors = i)\n",
    "    knn.fit(X_train, y_train)\n",
    "    pred = knn.predict(X_test)\n",
    "    acc = accuracy_score(y_test, pred, normalize=True) * float(100)\n",
    "    final_scores.append(acc)\n",
    "    print('\\n CV accuracy for k=%d is %d'%(i,acc))\n",
    "optimal_k = final_scores.index(max(final_scores))\n",
    "print(optimal_k)\n",
    "    \n",
    "\n"
   ]
  },
  {
   "cell_type": "code",
   "execution_count": 35,
   "id": "7c353efc",
   "metadata": {},
   "outputs": [
    {
     "name": "stdout",
     "output_type": "stream",
     "text": [
      "[[113  18]\n",
      " [ 21  71]]\n"
     ]
    },
    {
     "data": {
      "text/plain": [
       "0.8340807174887892"
      ]
     },
     "execution_count": 35,
     "metadata": {},
     "output_type": "execute_result"
    }
   ],
   "source": [
    "#LinearDiscriminantAnalysis\n",
    "from sklearn.discriminant_analysis import LinearDiscriminantAnalysis\n",
    "model = LinearDiscriminantAnalysis()\n",
    "res = model.fit(X_train, y_train).transform(X_train)\n",
    "\n",
    "\n",
    "\n",
    "y_pred= model.predict(X_test)\n",
    "model.decision_function(X_test)\n",
    "\n",
    "\n",
    "from sklearn.metrics import confusion_matrix\n",
    "confusion_matrix = confusion_matrix(y_test, y_pred)\n",
    "print(confusion_matrix)\n",
    "score=accuracy_score(y_predict,y_test)\n",
    "score"
   ]
  },
  {
   "cell_type": "code",
   "execution_count": null,
   "id": "1d985100",
   "metadata": {},
   "outputs": [],
   "source": [
    "#The best model is Logistic Regression with prdecting Age with KNN"
   ]
  },
  {
   "cell_type": "code",
   "execution_count": null,
   "id": "7d1e72d4",
   "metadata": {},
   "outputs": [],
   "source": []
  },
  {
   "cell_type": "markdown",
   "id": "b46e15af",
   "metadata": {},
   "source": [
    "#  Workhsop 3"
   ]
  },
  {
   "cell_type": "code",
   "execution_count": null,
   "id": "32788eca",
   "metadata": {},
   "outputs": [],
   "source": [
    "X=df[['Pclass', 'Sex', 'KNN_pridect_Age', 'SibSp', 'Parch','Fare','Embarked' ,'Deck']]\n",
    "y=df['Survived']"
   ]
  },
  {
   "cell_type": "markdown",
   "id": "1d33a289",
   "metadata": {},
   "source": [
    "# Split"
   ]
  },
  {
   "cell_type": "code",
   "execution_count": null,
   "id": "f6c4c09a",
   "metadata": {},
   "outputs": [],
   "source": [
    "# Logistic regression"
   ]
  },
  {
   "cell_type": "code",
   "execution_count": 77,
   "id": "04cebaaf",
   "metadata": {},
   "outputs": [
    {
     "name": "stdout",
     "output_type": "stream",
     "text": [
      "Accuracy score:  0.7932960893854749\n",
      "Confusion_matrix: [[100  12]\n",
      " [ 25  42]]\n",
      "Accuracy score:  0.7892376681614349\n",
      "Confusion_matrix: [[113  23]\n",
      " [ 24  63]]\n",
      "Accuracy score:  0.8134328358208955\n",
      "Confusion_matrix: [[142  24]\n",
      " [ 26  76]]\n",
      "Accuracy score:  0.7980769230769231\n",
      "Confusion_matrix: [[169  24]\n",
      " [ 39  80]]\n",
      "Accuracy score:  0.8067226890756303\n",
      "Confusion_matrix: [[184  32]\n",
      " [ 37 104]]\n",
      "Accuracy score:  0.8054862842892768\n",
      "Confusion_matrix: [[216  35]\n",
      " [ 43 107]]\n",
      "\n",
      "\n",
      "Accuracy dict:  {0.2: 0.7932960893854749, 0.25: 0.7892376681614349, 0.3: 0.8134328358208955, 0.35: 0.7980769230769231, 0.4: 0.8067226890756303, 0.45: 0.8054862842892768}\n"
     ]
    },
    {
     "data": {
      "image/png": "[encoded data removed]",
      "text/plain": [
       "<Figure size 360x360 with 2 Axes>"
      ]
     },
     "metadata": {
      "needs_background": "light"
     },
     "output_type": "display_data"
    },
    {
     "data": {
      "image/png": "[encoded data removed]",
      "text/plain": [
       "<Figure size 360x360 with 2 Axes>"
      ]
     },
     "metadata": {
      "needs_background": "light"
     },
     "output_type": "display_data"
    },
    {
     "data": {
      "image/png": "[encoded data removed]",
      "text/plain": [
       "<Figure size 360x360 with 2 Axes>"
      ]
     },
     "metadata": {
      "needs_background": "light"
     },
     "output_type": "display_data"
    },
    {
     "data": {
      "image/png": "[encoded data removed]",
      "text/plain": [
       "<Figure size 360x360 with 2 Axes>"
      ]
     },
     "metadata": {
      "needs_background": "light"
     },
     "output_type": "display_data"
    },
    {
     "data": {
      "image/png": "[encoded data removed]",
      "text/plain": [
       "<Figure size 360x360 with 2 Axes>"
      ]
     },
     "metadata": {
      "needs_background": "light"
     },
     "output_type": "display_data"
    },
    {
     "data": {
      "image/png": "[encoded data removed]",
      "text/plain": [
       "<Figure size 360x360 with 2 Axes>"
      ]
     },
     "metadata": {
      "needs_background": "light"
     },
     "output_type": "display_data"
    }
   ],
   "source": [
    "accuracy_dict={}\n",
    "for i in np.arange(0.2,0.5,0.05):\n",
    "    X_train,X_test,y_train,y_test=train_test_split(X,y,test_size=i)\n",
    "    #Logistic Regression\n",
    "    \n",
    "    LR=LogisticRegression().fit(X_train,y_train)\n",
    "    y_predict=LR.predict(X_test)\n",
    "    s=accuracy_score(y_predict,y_test)\n",
    "    accuracy_dict[round(i,2)]=s\n",
    "    con_mat=confusion_matrix(y_test,y_predict)\n",
    "    \n",
    "    print(\"Accuracy score: \", s)\n",
    "    print(\"Confusion_matrix:\", con_mat)\n",
    "    plt.figure(figsize=(5,5))\n",
    "    sns.heatmap(con_mat, annot=True, fmt=\".1f\", linewidths=.5, square = True, cmap = 'Blues_r');\n",
    "    plt.ylabel('Actual label');\n",
    "    plt.xlabel('Predicted label');\n",
    "    plt.title(round(i,2))\n",
    "print(\"\\n\")\n",
    "print(\"Accuracy dict: \", accuracy_dict)"
   ]
  },
  {
   "cell_type": "code",
   "execution_count": 85,
   "id": "6ead1300",
   "metadata": {
    "scrolled": true
   },
   "outputs": [
    {
     "data": {
      "text/plain": [
       "[<matplotlib.lines.Line2D at 0x2891a072c10>]"
      ]
     },
     "execution_count": 85,
     "metadata": {},
     "output_type": "execute_result"
    },
    {
     "data": {
      "image/png": "[encoded data removed]",
      "text/plain": [
       "<Figure size 432x288 with 1 Axes>"
      ]
     },
     "metadata": {
      "needs_background": "light"
     },
     "output_type": "display_data"
    }
   ],
   "source": [
    "keys = accuracy_dict.keys()\n",
    "values = accuracy_dict.values()\n",
    "\n",
    "plt.plot(keys, values, linestyle='--', marker='o', color='r', label='line with marker')"
   ]
  },
  {
   "cell_type": "code",
   "execution_count": 149,
   "id": "7692a616",
   "metadata": {},
   "outputs": [],
   "source": [
    "#KNN"
   ]
  },
  {
   "cell_type": "code",
   "execution_count": 133,
   "id": "29c74a25",
   "metadata": {},
   "outputs": [
    {
     "name": "stdout",
     "output_type": "stream",
     "text": [
      "0.2\n",
      "\n",
      " CV accuracy for k=1 is 72\n",
      "\n",
      " CV accuracy for k=2 is 71\n",
      "\n",
      " CV accuracy for k=3 is 72\n",
      "\n",
      " CV accuracy for k=4 is 72\n",
      "\n",
      " CV accuracy for k=5 is 71\n",
      "\n",
      " CV accuracy for k=6 is 70\n",
      "\n",
      " CV accuracy for k=7 is 69\n",
      "\n",
      " CV accuracy for k=8 is 69\n",
      "\n",
      " CV accuracy for k=9 is 73\n",
      "\n",
      " CV accuracy for k=10 is 71\n",
      "\n",
      " CV accuracy for k=11 is 72\n",
      "\n",
      " CV accuracy for k=12 is 72\n",
      "\n",
      " CV accuracy for k=13 is 71\n",
      "\n",
      " CV accuracy for k=14 is 71\n",
      "\n",
      " CV accuracy for k=15 is 72\n",
      "\n",
      " CV accuracy for k=16 is 70\n",
      "\n",
      " CV accuracy for k=17 is 71\n",
      "\n",
      " CV accuracy for k=18 is 69\n",
      "\n",
      " CV accuracy for k=19 is 69\n",
      "9 73.74301675977654 \n",
      "\n",
      "0.25\n",
      "\n",
      " CV accuracy for k=1 is 68\n",
      "\n",
      " CV accuracy for k=2 is 70\n",
      "\n",
      " CV accuracy for k=3 is 69\n",
      "\n",
      " CV accuracy for k=4 is 70\n",
      "\n",
      " CV accuracy for k=5 is 66\n",
      "\n",
      " CV accuracy for k=6 is 71\n",
      "\n",
      " CV accuracy for k=7 is 69\n",
      "\n",
      " CV accuracy for k=8 is 70\n",
      "\n",
      " CV accuracy for k=9 is 69\n",
      "\n",
      " CV accuracy for k=10 is 70\n",
      "\n",
      " CV accuracy for k=11 is 69\n",
      "\n",
      " CV accuracy for k=12 is 69\n",
      "\n",
      " CV accuracy for k=13 is 70\n",
      "\n",
      " CV accuracy for k=14 is 69\n",
      "\n",
      " CV accuracy for k=15 is 69\n",
      "\n",
      " CV accuracy for k=16 is 70\n",
      "\n",
      " CV accuracy for k=17 is 69\n",
      "\n",
      " CV accuracy for k=18 is 69\n",
      "\n",
      " CV accuracy for k=19 is 69\n",
      "6 71.30044843049326 \n",
      "\n",
      "0.3\n",
      "\n",
      " CV accuracy for k=1 is 67\n",
      "\n",
      " CV accuracy for k=2 is 67\n",
      "\n",
      " CV accuracy for k=3 is 70\n",
      "\n",
      " CV accuracy for k=4 is 70\n",
      "\n",
      " CV accuracy for k=5 is 72\n",
      "\n",
      " CV accuracy for k=6 is 72\n",
      "\n",
      " CV accuracy for k=7 is 72\n",
      "\n",
      " CV accuracy for k=8 is 72\n",
      "\n",
      " CV accuracy for k=9 is 70\n",
      "\n",
      " CV accuracy for k=10 is 71\n",
      "\n",
      " CV accuracy for k=11 is 70\n",
      "\n",
      " CV accuracy for k=12 is 72\n",
      "\n",
      " CV accuracy for k=13 is 71\n",
      "\n",
      " CV accuracy for k=14 is 71\n",
      "\n",
      " CV accuracy for k=15 is 72\n",
      "\n",
      " CV accuracy for k=16 is 72\n",
      "\n",
      " CV accuracy for k=17 is 72\n",
      "\n",
      " CV accuracy for k=18 is 71\n",
      "\n",
      " CV accuracy for k=19 is 71\n",
      "16 72.76119402985076 \n",
      "\n"
     ]
    },
    {
     "data": {
      "text/plain": [
       "{0.2: 73.74301675977654, 0.25: 71.30044843049326, 0.3: 72.76119402985076}"
      ]
     },
     "execution_count": 133,
     "metadata": {},
     "output_type": "execute_result"
    }
   ],
   "source": [
    "hritikas_dictionary = {}\n",
    "for i in np.arange(0.2,0.31,0.05):\n",
    "    X_train,X_test,y_train,y_test=train_test_split(X,y,test_size=i)\n",
    "    print(i)\n",
    "    #print(\"Test sample size: \", i)\n",
    "    #print(\"\\n\")\n",
    "    final_scores = []\n",
    "    for j in range(1,20,1):\n",
    "        knn = KNeighborsClassifier(n_neighbors = j)\n",
    "        knn.fit(X_train, y_train)\n",
    "        pred = knn.predict(X_test)\n",
    "        acc = accuracy_score(y_test, pred, normalize=True) * float(100)\n",
    "        final_scores.append(acc)\n",
    "        print('\\n CV accuracy for k=%d is %d'%(j,acc))\n",
    "    optimal_k = final_scores.index(max(final_scores))\n",
    "    max_scores = max(final_scores)\n",
    "    print(optimal_k+1,max(final_scores), \"\\n\") \n",
    "    hritikas_dictionary[i] = max(final_scores)\n",
    "       \n",
    "hritikas_dictionary\n",
    "#The best result is test sample =0.2\n",
    "#k=15"
   ]
  },
  {
   "cell_type": "code",
   "execution_count": null,
   "id": "d4623745",
   "metadata": {},
   "outputs": [],
   "source": [
    "#We found the best KNN results with test sample of 0.2"
   ]
  },
  {
   "cell_type": "code",
   "execution_count": 148,
   "id": "05687076",
   "metadata": {},
   "outputs": [
    {
     "name": "stdout",
     "output_type": "stream",
     "text": [
      "[[93 29]\n",
      " [21 36]]\n",
      "Accuracy score:  72.06703910614524\n"
     ]
    },
    {
     "data": {
      "image/png": "[encoded data removed]",
      "text/plain": [
       "<Figure size 360x360 with 2 Axes>"
      ]
     },
     "metadata": {
      "needs_background": "light"
     },
     "output_type": "display_data"
    }
   ],
   "source": [
    "X_train,X_test,y_train,y_test=train_test_split(X,y,test_size=0.2)\n",
    "knn = KNeighborsClassifier(n_neighbors = 9)\n",
    "knn.fit(X_train, y_train)\n",
    "pred = knn.predict(X_test)\n",
    "acc = accuracy_score(y_test, pred, normalize=True) * float(100)\n",
    "con_mat=confusion_matrix(y_test,pred)\n",
    "print(con_mat)\n",
    "print(\"Accuracy score: \", acc)\n",
    "plt.figure(figsize=(5,5))\n",
    "sns.heatmap(con_mat, annot=True, fmt=\".1f\", linewidths=.5, square = True, cmap = 'Blues_r');\n",
    "plt.ylabel('Actual label');\n",
    "plt.xlabel('Predicted label');"
   ]
  },
  {
   "cell_type": "code",
   "execution_count": 104,
   "id": "63b77474",
   "metadata": {},
   "outputs": [
    {
     "data": {
      "text/plain": [
       "dict_keys([0.2, 0.25, 0.3])"
      ]
     },
     "execution_count": 104,
     "metadata": {},
     "output_type": "execute_result"
    }
   ],
   "source": [
    "x_val = hritikas_dictionary.keys()\n",
    "x_val"
   ]
  },
  {
   "cell_type": "code",
   "execution_count": 108,
   "id": "071d3541",
   "metadata": {},
   "outputs": [
    {
     "name": "stdout",
     "output_type": "stream",
     "text": [
      "[68.71508379888269, 65.36312849162012, 69.83240223463687, 67.59776536312849, 68.15642458100558, 66.4804469273743, 66.4804469273743, 70.39106145251397, 69.27374301675978, 70.39106145251397, 72.06703910614524, 69.27374301675978, 70.94972067039106, 73.18435754189943, 75.41899441340783, 74.30167597765363, 74.30167597765363, 72.62569832402235, 73.18435754189943]\n",
      "[70.85201793721974, 67.2645739910314, 70.4035874439462, 68.60986547085201, 69.50672645739911, 66.81614349775785, 72.6457399103139, 69.50672645739911, 69.95515695067265, 68.16143497757847, 67.2645739910314, 70.4035874439462, 69.50672645739911, 69.95515695067265, 69.05829596412556, 69.95515695067265, 68.16143497757847, 67.2645739910314, 67.2645739910314]\n",
      "[70.1492537313433, 69.40298507462687, 73.50746268656717, 72.76119402985076, 73.13432835820896, 71.26865671641791, 71.64179104477611, 68.65671641791045, 70.1492537313433, 69.77611940298507, 68.65671641791045, 68.28358208955224, 69.40298507462687, 69.02985074626866, 70.1492537313433, 69.40298507462687, 69.02985074626866, 67.91044776119402, 69.40298507462687]\n"
     ]
    }
   ],
   "source": [
    "for i in x_val:\n",
    "    print(hritikas_dictionary[i])\n",
    "\n"
   ]
  },
  {
   "cell_type": "code",
   "execution_count": 111,
   "id": "b6388b05",
   "metadata": {},
   "outputs": [
    {
     "data": {
      "text/plain": [
       "[1, 2, 3, 4, 5, 6, 7, 8, 9, 10, 11, 12, 13, 14, 15, 16, 17, 18, 19]"
      ]
     },
     "execution_count": 111,
     "metadata": {},
     "output_type": "execute_result"
    }
   ],
   "source": [
    "l = []\n",
    "l.extend(range(1,20))\n",
    "l"
   ]
  },
  {
   "cell_type": "code",
   "execution_count": 116,
   "id": "74cfc0cb",
   "metadata": {},
   "outputs": [],
   "source": [
    "#sns.lineplot(x = hritikas_dictionary.values() , y = len(hritikas_dictionary[i]),  hue = hritikas_dictionary.keys())"
   ]
  },
  {
   "cell_type": "code",
   "execution_count": null,
   "id": "bee7879f",
   "metadata": {},
   "outputs": [],
   "source": [
    "#LinearDiscriminantAnalysis"
   ]
  },
  {
   "cell_type": "code",
   "execution_count": 166,
   "id": "1b8fbf28",
   "metadata": {},
   "outputs": [
    {
     "name": "stdout",
     "output_type": "stream",
     "text": [
      "Accuracy score: 0.770949720670391 \n",
      "\n",
      "Confusion matrix:  [[93 29]\n",
      " [21 36]]\n",
      "Accuracy score: 0.8161434977578476 \n",
      "\n",
      "Confusion matrix:  [[93 29]\n",
      " [21 36]]\n",
      "Accuracy score: 0.7649253731343284 \n",
      "\n",
      "Confusion matrix:  [[93 29]\n",
      " [21 36]]\n",
      "Accuracy score: 0.7788461538461539 \n",
      "\n",
      "Confusion matrix:  [[93 29]\n",
      " [21 36]]\n",
      "Accuracy score: 0.7843137254901961 \n",
      "\n",
      "Confusion matrix:  [[93 29]\n",
      " [21 36]]\n",
      "Accuracy score: 0.8129675810473815 \n",
      "\n",
      "Confusion matrix:  [[93 29]\n",
      " [21 36]]\n",
      "{0.2: 0.8054862842892768, 0.25: 0.8054862842892768, 0.3: 0.8054862842892768, 0.35: 0.8054862842892768, 0.4: 0.8054862842892768, 0.45: 0.8054862842892768}\n"
     ]
    },
    {
     "data": {
      "image/png": "[encoded data removed]",
      "text/plain": [
       "<Figure size 360x360 with 2 Axes>"
      ]
     },
     "metadata": {
      "needs_background": "light"
     },
     "output_type": "display_data"
    },
    {
     "data": {
      "image/png": "[encoded data removed]",
      "text/plain": [
       "<Figure size 360x360 with 2 Axes>"
      ]
     },
     "metadata": {
      "needs_background": "light"
     },
     "output_type": "display_data"
    },
    {
     "data": {
      "image/png": "[encoded data removed]",
      "text/plain": [
       "<Figure size 360x360 with 2 Axes>"
      ]
     },
     "metadata": {
      "needs_background": "light"
     },
     "output_type": "display_data"
    },
    {
     "data": {
      "image/png": "[encoded data removed]",
      "text/plain": [
       "<Figure size 360x360 with 2 Axes>"
      ]
     },
     "metadata": {
      "needs_background": "light"
     },
     "output_type": "display_data"
    },
    {
     "data": {
      "image/png": "[encoded data removed]",
      "text/plain": [
       "<Figure size 360x360 with 2 Axes>"
      ]
     },
     "metadata": {
      "needs_background": "light"
     },
     "output_type": "display_data"
    },
    {
     "data": {
      "image/png": "[encoded data removed]",
      "text/plain": [
       "<Figure size 360x360 with 2 Axes>"
      ]
     },
     "metadata": {
      "needs_background": "light"
     },
     "output_type": "display_data"
    }
   ],
   "source": [
    "from sklearn.metrics import confusion_matrix\n",
    "accuracy_dict1={}\n",
    "for i in np.arange(0.2, 0.5, 0.05):\n",
    "    X_train,X_test,y_train,y_test=train_test_split(X,y,test_size=i)\n",
    "    model = LinearDiscriminantAnalysis()\n",
    "    res = model.fit(X_train, y_train).transform(X_train)\n",
    "    y_pred= model.predict(X_test)\n",
    "    model.decision_function(X_test)\n",
    "    score=accuracy_score(y_pred,y_test)\n",
    "    accuracy_dict1[round(i,2)]=s\n",
    "    print(\"Accuracy score:\", score, \"\\n\")\n",
    "\n",
    "    #Confusion matrix\n",
    "    print(\"Confusion matrix: \",  con_mat)\n",
    "    plt.figure(figsize=(5,5))\n",
    "    sns.heatmap(con_mat, annot=True, fmt=\".1f\", linewidths=.5, square = True, cmap = 'Blues_r');\n",
    "    plt.ylabel('Actual label');\n",
    "    plt.xlabel('Predicted label');\n",
    "    plt.title(round(i,2))\n",
    "    \n",
    "print(accuracy_dict1)"
   ]
  },
  {
   "cell_type": "markdown",
   "id": "2d8a9e2a",
   "metadata": {},
   "source": [
    "# Cross validation"
   ]
  },
  {
   "cell_type": "code",
   "execution_count": 51,
   "id": "db9fc7cb",
   "metadata": {
    "scrolled": false
   },
   "outputs": [
    {
     "name": "stdout",
     "output_type": "stream",
     "text": [
      "Score mean: 0.7903265626753451\n",
      "Accuracy score:  0.820627802690583\n",
      "Score: [0.85074627 0.76119403 0.82089552 0.78195489 0.73684211]\n",
      "Confusion_matrix: [[134  18]\n",
      " [ 22  49]]\n"
     ]
    }
   ],
   "source": [
    "#Logistic Regression\n",
    "\n",
    "LR=LogisticRegression().fit(X_train,y_train)\n",
    "y_predict=LR.predict(X_test)\n",
    "s=accuracy_score(y_predict,y_test)\n",
    "score=cross_val_score(LR,X_train,y_train,cv=5)\n",
    "con_mat=confusion_matrix(y_test,y_predict)\n",
    "\n",
    "print('Score mean:' ,score.mean())\n",
    "print(\"Accuracy score: \", s)\n",
    "print(\"Score:\",score)\n",
    "print(\"Confusion_matrix:\", con_mat)"
   ]
  },
  {
   "cell_type": "code",
   "execution_count": 52,
   "id": "b2f46d77",
   "metadata": {
    "scrolled": true
   },
   "outputs": [
    {
     "data": {
      "image/png": "[encoded data removed]",
      "text/plain": [
       "<Figure size 360x360 with 2 Axes>"
      ]
     },
     "metadata": {
      "needs_background": "light"
     },
     "output_type": "display_data"
    }
   ],
   "source": [
    "plt.figure(figsize=(5,5))\n",
    "sns.heatmap(con_mat, annot=True, fmt=\".1f\", linewidths=.5, square = True, cmap = 'Blues_r');\n",
    "plt.ylabel('Actual label');\n",
    "plt.xlabel('Predicted label');"
   ]
  },
  {
   "cell_type": "code",
   "execution_count": 41,
   "id": "49ac52ab",
   "metadata": {
    "scrolled": false
   },
   "outputs": [
    {
     "name": "stdout",
     "output_type": "stream",
     "text": [
      "Score: [0.75373134 0.65671642 0.64925373 0.67669173 0.7518797 ]\n",
      "\n",
      " CV accuracy for k=1 is 69\n",
      "Score: [0.73134328 0.69402985 0.67910448 0.69924812 0.71428571]\n",
      "\n",
      " CV accuracy for k=2 is 69\n",
      "Score: [0.74626866 0.67164179 0.67910448 0.69924812 0.7518797 ]\n",
      "\n",
      " CV accuracy for k=3 is 67\n",
      "Score: [0.71641791 0.70149254 0.70895522 0.68421053 0.72180451]\n",
      "\n",
      " CV accuracy for k=4 is 69\n",
      "Score: [0.76119403 0.67910448 0.70149254 0.67669173 0.7518797 ]\n",
      "\n",
      " CV accuracy for k=5 is 70\n",
      "Score: [0.70149254 0.67164179 0.7238806  0.72180451 0.73684211]\n",
      "\n",
      " CV accuracy for k=6 is 72\n",
      "Score: [0.74626866 0.67164179 0.71641791 0.66917293 0.7518797 ]\n",
      "\n",
      " CV accuracy for k=7 is 69\n",
      "Score: [0.70149254 0.61940299 0.73134328 0.67669173 0.72180451]\n",
      "\n",
      " CV accuracy for k=8 is 69\n",
      "Score: [0.74626866 0.59701493 0.7238806  0.64661654 0.77443609]\n",
      "\n",
      " CV accuracy for k=9 is 72\n",
      "Score: [0.70895522 0.58955224 0.74626866 0.69172932 0.77443609]\n",
      "\n",
      " CV accuracy for k=10 is 70\n",
      "Score: [0.73134328 0.60447761 0.75373134 0.68421053 0.78195489]\n",
      "\n",
      " CV accuracy for k=11 is 70\n",
      "Score: [0.71641791 0.58955224 0.74626866 0.69172932 0.7443609 ]\n",
      "\n",
      " CV accuracy for k=12 is 68\n",
      "Score: [0.69402985 0.60447761 0.74626866 0.66917293 0.77443609]\n",
      "\n",
      " CV accuracy for k=13 is 69\n",
      "Score: [0.70895522 0.6119403  0.75373134 0.66917293 0.71428571]\n",
      "\n",
      " CV accuracy for k=14 is 69\n",
      "Score: [0.73134328 0.58955224 0.74626866 0.64661654 0.7443609 ]\n",
      "\n",
      " CV accuracy for k=15 is 69\n",
      "Score: [0.73134328 0.57462687 0.71641791 0.65413534 0.71428571]\n",
      "\n",
      " CV accuracy for k=16 is 71\n",
      "Score: [0.75373134 0.58955224 0.76119403 0.64661654 0.72932331]\n",
      "\n",
      " CV accuracy for k=17 is 70\n",
      "Score: [0.69402985 0.58955224 0.73880597 0.69172932 0.73684211]\n",
      "\n",
      " CV accuracy for k=18 is 69\n",
      "Score: [0.70895522 0.59701493 0.7238806  0.68421053 0.72932331]\n",
      "\n",
      " CV accuracy for k=19 is 69\n",
      "6\n"
     ]
    }
   ],
   "source": [
    "# KNN\n",
    "\n",
    "#KNN\n",
    "final_scores = []\n",
    "for i in range(1,20,1):\n",
    "    knn = KNeighborsClassifier(n_neighbors = i)\n",
    "    knn.fit(X_train, y_train)\n",
    "    pred = knn.predict(X_test)\n",
    "    score=cross_val_score(knn,X_train,y_train,cv=5)\n",
    "    print(\"Score:\",score)\n",
    "    acc = accuracy_score(y_test, pred, normalize=True) * float(100)\n",
    "    final_scores.append(acc)\n",
    "    print('\\n CV accuracy for k=%d is %d'%(i,acc))\n",
    "optimal_k = final_scores.index(max(final_scores))\n",
    "print(optimal_k+1)   "
   ]
  },
  {
   "cell_type": "code",
   "execution_count": 167,
   "id": "3a2c4293",
   "metadata": {},
   "outputs": [
    {
     "name": "stdout",
     "output_type": "stream",
     "text": [
      "Score mean5: 0.7957190383528969\n",
      "Score mean10: 0.799063670411985\n",
      "Confusion_matrix: [[93 29]\n",
      " [21 36]]\n"
     ]
    }
   ],
   "source": [
    "#Discriminant Analysis\n",
    "\n",
    "model = LinearDiscriminantAnalysis()\n",
    "score5=cross_val_score(model,X,y,cv=5)\n",
    "score10=cross_val_score(model,X,y,cv=10)\n",
    "\n",
    "print('Score mean5:' ,score5.mean())\n",
    "print('Score mean10:' ,score10.mean())\n",
    "print(\"Confusion_matrix:\", con_mat)\n",
    "\n"
   ]
  }
 ],
 "metadata": {
  "kernelspec": {
   "display_name": "Python 3 (ipykernel)",
   "language": "python",
   "name": "python3"
  },
  "language_info": {
   "codemirror_mode": {
    "name": "ipython",
    "version": 3
   },
   "file_extension": ".py",
   "mimetype": "text/x-python",
   "name": "python",
   "nbconvert_exporter": "python",
   "pygments_lexer": "ipython3",
   "version": "3.9.12"
  }
 },
 "nbformat": 4,
 "nbformat_minor": 5
}
