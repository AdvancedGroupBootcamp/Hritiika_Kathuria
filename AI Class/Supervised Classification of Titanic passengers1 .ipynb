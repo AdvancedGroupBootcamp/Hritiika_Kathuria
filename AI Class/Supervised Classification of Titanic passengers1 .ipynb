{
 "cells": [
  {
   "cell_type": "code",
   "execution_count": 1,
   "id": "38ca13b4",
   "metadata": {},
   "outputs": [],
   "source": [
    "import numpy as np\n",
    "import pandas as pd\n",
    "from sklearn.linear_model import LogisticRegression\n",
    "\n",
    "from sklearn.model_selection import train_test_split\n",
    "from sklearn.metrics import confusion_matrix,accuracy_score,classification_report\n",
    "from sklearn.preprocessing import StandardScaler\n",
    "\n",
    "import warnings\n",
    "warnings.filterwarnings(\"ignore\")"
   ]
  },
  {
   "cell_type": "code",
   "execution_count": 2,
   "id": "d9bdac3c",
   "metadata": {},
   "outputs": [],
   "source": [
    "\n",
    "# importing libraries for KNN\n",
    "\n",
    "from sklearn.neighbors import NearestNeighbors\n",
    "from sklearn.neighbors import KNeighborsClassifier\n",
    "from sklearn import metrics\n",
    "from sklearn.metrics import accuracy_score\n",
    "from sklearn.metrics import precision_recall_fscore_support\n",
    "from sklearn.model_selection import cross_val_score\n",
    "from sklearn.model_selection import KFold\n",
    "from collections import Counter\n",
    "from sklearn.model_selection import cross_validate\n",
    "\n"
   ]
  },
  {
   "cell_type": "code",
   "execution_count": 3,
   "id": "82d5cf69",
   "metadata": {},
   "outputs": [],
   "source": [
    "df = pd.read_csv(\"train.csv\")"
   ]
  },
  {
   "cell_type": "code",
   "execution_count": 4,
   "id": "a77c8e6f",
   "metadata": {},
   "outputs": [],
   "source": [
    "#Handling Embarked feature by replace the missing values with the most common value\n",
    "\n",
    "df['Embarked'].fillna(df['Embarked'].mode()[0], inplace=True)"
   ]
  },
  {
   "cell_type": "code",
   "execution_count": 5,
   "id": "d81faba3",
   "metadata": {},
   "outputs": [
    {
     "data": {
      "text/html": [
       "<div>\n",
       "<style scoped>\n",
       "    .dataframe tbody tr th:only-of-type {\n",
       "        vertical-align: middle;\n",
       "    }\n",
       "\n",
       "    .dataframe tbody tr th {\n",
       "        vertical-align: top;\n",
       "    }\n",
       "\n",
       "    .dataframe thead th {\n",
       "        text-align: right;\n",
       "    }\n",
       "</style>\n",
       "<table border=\"1\" class=\"dataframe\">\n",
       "  <thead>\n",
       "    <tr style=\"text-align: right;\">\n",
       "      <th></th>\n",
       "      <th>PassengerId</th>\n",
       "      <th>Survived</th>\n",
       "      <th>Pclass</th>\n",
       "      <th>Name</th>\n",
       "      <th>Sex</th>\n",
       "      <th>Age</th>\n",
       "      <th>SibSp</th>\n",
       "      <th>Parch</th>\n",
       "      <th>Ticket</th>\n",
       "      <th>Fare</th>\n",
       "      <th>Cabin</th>\n",
       "      <th>Embarked</th>\n",
       "      <th>Deck</th>\n",
       "    </tr>\n",
       "  </thead>\n",
       "  <tbody>\n",
       "    <tr>\n",
       "      <th>0</th>\n",
       "      <td>1</td>\n",
       "      <td>0</td>\n",
       "      <td>3</td>\n",
       "      <td>Braund, Mr. Owen Harris</td>\n",
       "      <td>male</td>\n",
       "      <td>22.0</td>\n",
       "      <td>1</td>\n",
       "      <td>0</td>\n",
       "      <td>A/5 21171</td>\n",
       "      <td>7.2500</td>\n",
       "      <td>NaN</td>\n",
       "      <td>S</td>\n",
       "      <td>N</td>\n",
       "    </tr>\n",
       "    <tr>\n",
       "      <th>1</th>\n",
       "      <td>2</td>\n",
       "      <td>1</td>\n",
       "      <td>1</td>\n",
       "      <td>Cumings, Mrs. John Bradley (Florence Briggs Th...</td>\n",
       "      <td>female</td>\n",
       "      <td>38.0</td>\n",
       "      <td>1</td>\n",
       "      <td>0</td>\n",
       "      <td>PC 17599</td>\n",
       "      <td>71.2833</td>\n",
       "      <td>C85</td>\n",
       "      <td>C</td>\n",
       "      <td>C</td>\n",
       "    </tr>\n",
       "    <tr>\n",
       "      <th>2</th>\n",
       "      <td>3</td>\n",
       "      <td>1</td>\n",
       "      <td>3</td>\n",
       "      <td>Heikkinen, Miss. Laina</td>\n",
       "      <td>female</td>\n",
       "      <td>26.0</td>\n",
       "      <td>0</td>\n",
       "      <td>0</td>\n",
       "      <td>STON/O2. 3101282</td>\n",
       "      <td>7.9250</td>\n",
       "      <td>NaN</td>\n",
       "      <td>S</td>\n",
       "      <td>N</td>\n",
       "    </tr>\n",
       "    <tr>\n",
       "      <th>3</th>\n",
       "      <td>4</td>\n",
       "      <td>1</td>\n",
       "      <td>1</td>\n",
       "      <td>Futrelle, Mrs. Jacques Heath (Lily May Peel)</td>\n",
       "      <td>female</td>\n",
       "      <td>35.0</td>\n",
       "      <td>1</td>\n",
       "      <td>0</td>\n",
       "      <td>113803</td>\n",
       "      <td>53.1000</td>\n",
       "      <td>C123</td>\n",
       "      <td>S</td>\n",
       "      <td>C</td>\n",
       "    </tr>\n",
       "    <tr>\n",
       "      <th>4</th>\n",
       "      <td>5</td>\n",
       "      <td>0</td>\n",
       "      <td>3</td>\n",
       "      <td>Allen, Mr. William Henry</td>\n",
       "      <td>male</td>\n",
       "      <td>35.0</td>\n",
       "      <td>0</td>\n",
       "      <td>0</td>\n",
       "      <td>373450</td>\n",
       "      <td>8.0500</td>\n",
       "      <td>NaN</td>\n",
       "      <td>S</td>\n",
       "      <td>N</td>\n",
       "    </tr>\n",
       "    <tr>\n",
       "      <th>...</th>\n",
       "      <td>...</td>\n",
       "      <td>...</td>\n",
       "      <td>...</td>\n",
       "      <td>...</td>\n",
       "      <td>...</td>\n",
       "      <td>...</td>\n",
       "      <td>...</td>\n",
       "      <td>...</td>\n",
       "      <td>...</td>\n",
       "      <td>...</td>\n",
       "      <td>...</td>\n",
       "      <td>...</td>\n",
       "      <td>...</td>\n",
       "    </tr>\n",
       "    <tr>\n",
       "      <th>886</th>\n",
       "      <td>887</td>\n",
       "      <td>0</td>\n",
       "      <td>2</td>\n",
       "      <td>Montvila, Rev. Juozas</td>\n",
       "      <td>male</td>\n",
       "      <td>27.0</td>\n",
       "      <td>0</td>\n",
       "      <td>0</td>\n",
       "      <td>211536</td>\n",
       "      <td>13.0000</td>\n",
       "      <td>NaN</td>\n",
       "      <td>S</td>\n",
       "      <td>N</td>\n",
       "    </tr>\n",
       "    <tr>\n",
       "      <th>887</th>\n",
       "      <td>888</td>\n",
       "      <td>1</td>\n",
       "      <td>1</td>\n",
       "      <td>Graham, Miss. Margaret Edith</td>\n",
       "      <td>female</td>\n",
       "      <td>19.0</td>\n",
       "      <td>0</td>\n",
       "      <td>0</td>\n",
       "      <td>112053</td>\n",
       "      <td>30.0000</td>\n",
       "      <td>B42</td>\n",
       "      <td>S</td>\n",
       "      <td>B</td>\n",
       "    </tr>\n",
       "    <tr>\n",
       "      <th>888</th>\n",
       "      <td>889</td>\n",
       "      <td>0</td>\n",
       "      <td>3</td>\n",
       "      <td>Johnston, Miss. Catherine Helen \"Carrie\"</td>\n",
       "      <td>female</td>\n",
       "      <td>NaN</td>\n",
       "      <td>1</td>\n",
       "      <td>2</td>\n",
       "      <td>W./C. 6607</td>\n",
       "      <td>23.4500</td>\n",
       "      <td>NaN</td>\n",
       "      <td>S</td>\n",
       "      <td>N</td>\n",
       "    </tr>\n",
       "    <tr>\n",
       "      <th>889</th>\n",
       "      <td>890</td>\n",
       "      <td>1</td>\n",
       "      <td>1</td>\n",
       "      <td>Behr, Mr. Karl Howell</td>\n",
       "      <td>male</td>\n",
       "      <td>26.0</td>\n",
       "      <td>0</td>\n",
       "      <td>0</td>\n",
       "      <td>111369</td>\n",
       "      <td>30.0000</td>\n",
       "      <td>C148</td>\n",
       "      <td>C</td>\n",
       "      <td>C</td>\n",
       "    </tr>\n",
       "    <tr>\n",
       "      <th>890</th>\n",
       "      <td>891</td>\n",
       "      <td>0</td>\n",
       "      <td>3</td>\n",
       "      <td>Dooley, Mr. Patrick</td>\n",
       "      <td>male</td>\n",
       "      <td>32.0</td>\n",
       "      <td>0</td>\n",
       "      <td>0</td>\n",
       "      <td>370376</td>\n",
       "      <td>7.7500</td>\n",
       "      <td>NaN</td>\n",
       "      <td>Q</td>\n",
       "      <td>N</td>\n",
       "    </tr>\n",
       "  </tbody>\n",
       "</table>\n",
       "<p>891 rows × 13 columns</p>\n",
       "</div>"
      ],
      "text/plain": [
       "     PassengerId  Survived  Pclass  \\\n",
       "0              1         0       3   \n",
       "1              2         1       1   \n",
       "2              3         1       3   \n",
       "3              4         1       1   \n",
       "4              5         0       3   \n",
       "..           ...       ...     ...   \n",
       "886          887         0       2   \n",
       "887          888         1       1   \n",
       "888          889         0       3   \n",
       "889          890         1       1   \n",
       "890          891         0       3   \n",
       "\n",
       "                                                  Name     Sex   Age  SibSp  \\\n",
       "0                              Braund, Mr. Owen Harris    male  22.0      1   \n",
       "1    Cumings, Mrs. John Bradley (Florence Briggs Th...  female  38.0      1   \n",
       "2                               Heikkinen, Miss. Laina  female  26.0      0   \n",
       "3         Futrelle, Mrs. Jacques Heath (Lily May Peel)  female  35.0      1   \n",
       "4                             Allen, Mr. William Henry    male  35.0      0   \n",
       "..                                                 ...     ...   ...    ...   \n",
       "886                              Montvila, Rev. Juozas    male  27.0      0   \n",
       "887                       Graham, Miss. Margaret Edith  female  19.0      0   \n",
       "888           Johnston, Miss. Catherine Helen \"Carrie\"  female   NaN      1   \n",
       "889                              Behr, Mr. Karl Howell    male  26.0      0   \n",
       "890                                Dooley, Mr. Patrick    male  32.0      0   \n",
       "\n",
       "     Parch            Ticket     Fare Cabin Embarked Deck  \n",
       "0        0         A/5 21171   7.2500   NaN        S    N  \n",
       "1        0          PC 17599  71.2833   C85        C    C  \n",
       "2        0  STON/O2. 3101282   7.9250   NaN        S    N  \n",
       "3        0            113803  53.1000  C123        S    C  \n",
       "4        0            373450   8.0500   NaN        S    N  \n",
       "..     ...               ...      ...   ...      ...  ...  \n",
       "886      0            211536  13.0000   NaN        S    N  \n",
       "887      0            112053  30.0000   B42        S    B  \n",
       "888      2        W./C. 6607  23.4500   NaN        S    N  \n",
       "889      0            111369  30.0000  C148        C    C  \n",
       "890      0            370376   7.7500   NaN        Q    N  \n",
       "\n",
       "[891 rows x 13 columns]"
      ]
     },
     "execution_count": 5,
     "metadata": {},
     "output_type": "execute_result"
    }
   ],
   "source": [
    "#Handling Cabin feature by making a new featur \"Deck\" taking the fist letter and replace the missing values with 'N'\n",
    "\n",
    "df['Deck']=df[\"Cabin\"]\n",
    "df['Deck']=df[\"Deck\"].str.slice(0,1)\n",
    "df['Deck']=df[\"Deck\"].fillna(\"N\")\n",
    "df"
   ]
  },
  {
   "cell_type": "code",
   "execution_count": 6,
   "id": "9234615b",
   "metadata": {},
   "outputs": [],
   "source": [
    "#change the 'sex' , 'Embarked' , 'Deck' to numbers\n",
    "df['Sex']=pd.get_dummies(df['Sex'],drop_first=True)\n",
    "\n",
    "df.Embarked.replace(['S', 'C', 'Q'], [1, 2, 3], inplace=True)\n",
    "\n",
    "df.Deck.replace(['N', 'C', 'E', 'G', 'D', 'A', 'B', 'F', 'T'], [1, 2, 3,4,5,6,7,8,9], inplace=True)\n",
    "\n"
   ]
  },
  {
   "cell_type": "code",
   "execution_count": 7,
   "id": "35d708ca",
   "metadata": {},
   "outputs": [],
   "source": [
    "##not for this session\n",
    "#First method of age\n",
    "#use sklearn to applay the Linear Regression to predict the missing values of the age\n",
    "from sklearn.linear_model import LinearRegression\n",
    "lin=LinearRegression()\n",
    "data_with_null=df[['Survived' ,'Pclass','SibSp','Parch','Fare','Deck','Embarked','Age']]\n",
    "data_without_null=data_with_null.dropna()\n",
    "train=data_without_null.iloc[:,:7]\n",
    "target=data_without_null.iloc[:,7]\n",
    "lin.fit(train,target)\n",
    "test=data_with_null.iloc[:,:7]\n",
    "pridect_Age=pd.DataFrame(lin.predict(test))\n",
    "\n",
    "data_with_null.Age.fillna(pridect_Age[0] ,inplace=True)\n",
    "\n",
    "df['pridect_Age']=data_with_null.Age.astype(int)\n"
   ]
  },
  {
   "cell_type": "code",
   "execution_count": 8,
   "id": "85bd14cf",
   "metadata": {},
   "outputs": [
    {
     "data": {
      "text/html": [
       "<div>\n",
       "<style scoped>\n",
       "    .dataframe tbody tr th:only-of-type {\n",
       "        vertical-align: middle;\n",
       "    }\n",
       "\n",
       "    .dataframe tbody tr th {\n",
       "        vertical-align: top;\n",
       "    }\n",
       "\n",
       "    .dataframe thead th {\n",
       "        text-align: right;\n",
       "    }\n",
       "</style>\n",
       "<table border=\"1\" class=\"dataframe\">\n",
       "  <thead>\n",
       "    <tr style=\"text-align: right;\">\n",
       "      <th></th>\n",
       "      <th>PassengerId</th>\n",
       "      <th>Survived</th>\n",
       "      <th>Pclass</th>\n",
       "      <th>Name</th>\n",
       "      <th>Sex</th>\n",
       "      <th>Age</th>\n",
       "      <th>SibSp</th>\n",
       "      <th>Parch</th>\n",
       "      <th>Ticket</th>\n",
       "      <th>Fare</th>\n",
       "      <th>Cabin</th>\n",
       "      <th>Embarked</th>\n",
       "      <th>Deck</th>\n",
       "      <th>pridect_Age</th>\n",
       "      <th>KNN_pridect_Age</th>\n",
       "    </tr>\n",
       "  </thead>\n",
       "  <tbody>\n",
       "    <tr>\n",
       "      <th>0</th>\n",
       "      <td>1</td>\n",
       "      <td>0</td>\n",
       "      <td>3</td>\n",
       "      <td>Braund, Mr. Owen Harris</td>\n",
       "      <td>1</td>\n",
       "      <td>22.0</td>\n",
       "      <td>1</td>\n",
       "      <td>0</td>\n",
       "      <td>A/5 21171</td>\n",
       "      <td>7.2500</td>\n",
       "      <td>NaN</td>\n",
       "      <td>1</td>\n",
       "      <td>1</td>\n",
       "      <td>22</td>\n",
       "      <td>22</td>\n",
       "    </tr>\n",
       "    <tr>\n",
       "      <th>1</th>\n",
       "      <td>2</td>\n",
       "      <td>1</td>\n",
       "      <td>1</td>\n",
       "      <td>Cumings, Mrs. John Bradley (Florence Briggs Th...</td>\n",
       "      <td>0</td>\n",
       "      <td>38.0</td>\n",
       "      <td>1</td>\n",
       "      <td>0</td>\n",
       "      <td>PC 17599</td>\n",
       "      <td>71.2833</td>\n",
       "      <td>C85</td>\n",
       "      <td>2</td>\n",
       "      <td>2</td>\n",
       "      <td>38</td>\n",
       "      <td>38</td>\n",
       "    </tr>\n",
       "    <tr>\n",
       "      <th>2</th>\n",
       "      <td>3</td>\n",
       "      <td>1</td>\n",
       "      <td>3</td>\n",
       "      <td>Heikkinen, Miss. Laina</td>\n",
       "      <td>0</td>\n",
       "      <td>26.0</td>\n",
       "      <td>0</td>\n",
       "      <td>0</td>\n",
       "      <td>STON/O2. 3101282</td>\n",
       "      <td>7.9250</td>\n",
       "      <td>NaN</td>\n",
       "      <td>1</td>\n",
       "      <td>1</td>\n",
       "      <td>26</td>\n",
       "      <td>26</td>\n",
       "    </tr>\n",
       "    <tr>\n",
       "      <th>3</th>\n",
       "      <td>4</td>\n",
       "      <td>1</td>\n",
       "      <td>1</td>\n",
       "      <td>Futrelle, Mrs. Jacques Heath (Lily May Peel)</td>\n",
       "      <td>0</td>\n",
       "      <td>35.0</td>\n",
       "      <td>1</td>\n",
       "      <td>0</td>\n",
       "      <td>113803</td>\n",
       "      <td>53.1000</td>\n",
       "      <td>C123</td>\n",
       "      <td>1</td>\n",
       "      <td>2</td>\n",
       "      <td>35</td>\n",
       "      <td>35</td>\n",
       "    </tr>\n",
       "    <tr>\n",
       "      <th>4</th>\n",
       "      <td>5</td>\n",
       "      <td>0</td>\n",
       "      <td>3</td>\n",
       "      <td>Allen, Mr. William Henry</td>\n",
       "      <td>1</td>\n",
       "      <td>35.0</td>\n",
       "      <td>0</td>\n",
       "      <td>0</td>\n",
       "      <td>373450</td>\n",
       "      <td>8.0500</td>\n",
       "      <td>NaN</td>\n",
       "      <td>1</td>\n",
       "      <td>1</td>\n",
       "      <td>35</td>\n",
       "      <td>35</td>\n",
       "    </tr>\n",
       "    <tr>\n",
       "      <th>...</th>\n",
       "      <td>...</td>\n",
       "      <td>...</td>\n",
       "      <td>...</td>\n",
       "      <td>...</td>\n",
       "      <td>...</td>\n",
       "      <td>...</td>\n",
       "      <td>...</td>\n",
       "      <td>...</td>\n",
       "      <td>...</td>\n",
       "      <td>...</td>\n",
       "      <td>...</td>\n",
       "      <td>...</td>\n",
       "      <td>...</td>\n",
       "      <td>...</td>\n",
       "      <td>...</td>\n",
       "    </tr>\n",
       "    <tr>\n",
       "      <th>886</th>\n",
       "      <td>887</td>\n",
       "      <td>0</td>\n",
       "      <td>2</td>\n",
       "      <td>Montvila, Rev. Juozas</td>\n",
       "      <td>1</td>\n",
       "      <td>27.0</td>\n",
       "      <td>0</td>\n",
       "      <td>0</td>\n",
       "      <td>211536</td>\n",
       "      <td>13.0000</td>\n",
       "      <td>NaN</td>\n",
       "      <td>1</td>\n",
       "      <td>1</td>\n",
       "      <td>27</td>\n",
       "      <td>27</td>\n",
       "    </tr>\n",
       "    <tr>\n",
       "      <th>887</th>\n",
       "      <td>888</td>\n",
       "      <td>1</td>\n",
       "      <td>1</td>\n",
       "      <td>Graham, Miss. Margaret Edith</td>\n",
       "      <td>0</td>\n",
       "      <td>19.0</td>\n",
       "      <td>0</td>\n",
       "      <td>0</td>\n",
       "      <td>112053</td>\n",
       "      <td>30.0000</td>\n",
       "      <td>B42</td>\n",
       "      <td>1</td>\n",
       "      <td>7</td>\n",
       "      <td>19</td>\n",
       "      <td>19</td>\n",
       "    </tr>\n",
       "    <tr>\n",
       "      <th>888</th>\n",
       "      <td>889</td>\n",
       "      <td>0</td>\n",
       "      <td>3</td>\n",
       "      <td>Johnston, Miss. Catherine Helen \"Carrie\"</td>\n",
       "      <td>0</td>\n",
       "      <td>NaN</td>\n",
       "      <td>1</td>\n",
       "      <td>2</td>\n",
       "      <td>W./C. 6607</td>\n",
       "      <td>23.4500</td>\n",
       "      <td>NaN</td>\n",
       "      <td>1</td>\n",
       "      <td>1</td>\n",
       "      <td>23</td>\n",
       "      <td>33</td>\n",
       "    </tr>\n",
       "    <tr>\n",
       "      <th>889</th>\n",
       "      <td>890</td>\n",
       "      <td>1</td>\n",
       "      <td>1</td>\n",
       "      <td>Behr, Mr. Karl Howell</td>\n",
       "      <td>1</td>\n",
       "      <td>26.0</td>\n",
       "      <td>0</td>\n",
       "      <td>0</td>\n",
       "      <td>111369</td>\n",
       "      <td>30.0000</td>\n",
       "      <td>C148</td>\n",
       "      <td>2</td>\n",
       "      <td>2</td>\n",
       "      <td>26</td>\n",
       "      <td>26</td>\n",
       "    </tr>\n",
       "    <tr>\n",
       "      <th>890</th>\n",
       "      <td>891</td>\n",
       "      <td>0</td>\n",
       "      <td>3</td>\n",
       "      <td>Dooley, Mr. Patrick</td>\n",
       "      <td>1</td>\n",
       "      <td>32.0</td>\n",
       "      <td>0</td>\n",
       "      <td>0</td>\n",
       "      <td>370376</td>\n",
       "      <td>7.7500</td>\n",
       "      <td>NaN</td>\n",
       "      <td>3</td>\n",
       "      <td>1</td>\n",
       "      <td>32</td>\n",
       "      <td>32</td>\n",
       "    </tr>\n",
       "  </tbody>\n",
       "</table>\n",
       "<p>891 rows × 15 columns</p>\n",
       "</div>"
      ],
      "text/plain": [
       "     PassengerId  Survived  Pclass  \\\n",
       "0              1         0       3   \n",
       "1              2         1       1   \n",
       "2              3         1       3   \n",
       "3              4         1       1   \n",
       "4              5         0       3   \n",
       "..           ...       ...     ...   \n",
       "886          887         0       2   \n",
       "887          888         1       1   \n",
       "888          889         0       3   \n",
       "889          890         1       1   \n",
       "890          891         0       3   \n",
       "\n",
       "                                                  Name  Sex   Age  SibSp  \\\n",
       "0                              Braund, Mr. Owen Harris    1  22.0      1   \n",
       "1    Cumings, Mrs. John Bradley (Florence Briggs Th...    0  38.0      1   \n",
       "2                               Heikkinen, Miss. Laina    0  26.0      0   \n",
       "3         Futrelle, Mrs. Jacques Heath (Lily May Peel)    0  35.0      1   \n",
       "4                             Allen, Mr. William Henry    1  35.0      0   \n",
       "..                                                 ...  ...   ...    ...   \n",
       "886                              Montvila, Rev. Juozas    1  27.0      0   \n",
       "887                       Graham, Miss. Margaret Edith    0  19.0      0   \n",
       "888           Johnston, Miss. Catherine Helen \"Carrie\"    0   NaN      1   \n",
       "889                              Behr, Mr. Karl Howell    1  26.0      0   \n",
       "890                                Dooley, Mr. Patrick    1  32.0      0   \n",
       "\n",
       "     Parch            Ticket     Fare Cabin  Embarked  Deck  pridect_Age  \\\n",
       "0        0         A/5 21171   7.2500   NaN         1     1           22   \n",
       "1        0          PC 17599  71.2833   C85         2     2           38   \n",
       "2        0  STON/O2. 3101282   7.9250   NaN         1     1           26   \n",
       "3        0            113803  53.1000  C123         1     2           35   \n",
       "4        0            373450   8.0500   NaN         1     1           35   \n",
       "..     ...               ...      ...   ...       ...   ...          ...   \n",
       "886      0            211536  13.0000   NaN         1     1           27   \n",
       "887      0            112053  30.0000   B42         1     7           19   \n",
       "888      2        W./C. 6607  23.4500   NaN         1     1           23   \n",
       "889      0            111369  30.0000  C148         2     2           26   \n",
       "890      0            370376   7.7500   NaN         3     1           32   \n",
       "\n",
       "     KNN_pridect_Age  \n",
       "0                 22  \n",
       "1                 38  \n",
       "2                 26  \n",
       "3                 35  \n",
       "4                 35  \n",
       "..               ...  \n",
       "886               27  \n",
       "887               19  \n",
       "888               33  \n",
       "889               26  \n",
       "890               32  \n",
       "\n",
       "[891 rows x 15 columns]"
      ]
     },
     "execution_count": 8,
     "metadata": {},
     "output_type": "execute_result"
    }
   ],
   "source": [
    "##not for this session\n",
    "#Second method of age\n",
    "#use sklearn to applay the KNNImputer to predict the missing values of the age\n",
    "from sklearn.impute import KNNImputer\n",
    "imputer=KNNImputer(n_neighbors=2)\n",
    "df_filled=pd.DataFrame(imputer.fit_transform(df[['Survived' ,'Pclass','SibSp','Parch','Fare','Deck','Embarked','Age']]),)\n",
    "df['KNN_pridect_Age']=df_filled[7].astype(int)\n",
    "df"
   ]
  },
  {
   "cell_type": "code",
   "execution_count": 9,
   "id": "ff1b0ef9",
   "metadata": {},
   "outputs": [
    {
     "data": {
      "text/plain": [
       "array(['Mr', 'Mrs', 'Miss', 'Master', 'Don', 'Rev', 'Dr', 'Mme', 'Ms',\n",
       "       'Major', 'Lady', 'Sir', 'Mlle', 'Col', 'Capt', 'Countess',\n",
       "       'Jonkheer'], dtype=object)"
      ]
     },
     "execution_count": 9,
     "metadata": {},
     "output_type": "execute_result"
    }
   ],
   "source": [
    "##not for this session\n",
    "#Third method of age\n",
    "\n",
    "#Extract the titles of name to calculate the mean age of each title\n",
    "df['Title'] = df['Name'].str.extract('([A-Za-z]+)\\.', expand=True)\n",
    "df['Title'].unique()"
   ]
  },
  {
   "cell_type": "code",
   "execution_count": 10,
   "id": "66368480",
   "metadata": {},
   "outputs": [
    {
     "data": {
      "text/plain": [
       "array(['Mr', 'Mrs', 'Miss', 'Master', 'Rev', 'Dr'], dtype=object)"
      ]
     },
     "execution_count": 10,
     "metadata": {},
     "output_type": "execute_result"
    }
   ],
   "source": [
    "##not for this session\n",
    "title_reduction = {'Mr': 'Mr', 'Mrs': 'Mrs', 'Miss': 'Miss', \n",
    "                   'Master': 'Master', 'Don': 'Mr', 'Rev': 'Rev',\n",
    "                   'Dr': 'Dr', 'Mme': 'Miss', 'Ms': 'Miss',\n",
    "                   'Major': 'Mr', 'Lady': 'Mrs', 'Sir': 'Mr',\n",
    "                   'Mlle': 'Miss', 'Col': 'Mr', 'Capt': 'Mr',\n",
    "                   'Countess': 'Mrs','Jonkheer': 'Mr',\n",
    "                   'Dona': 'Mrs'}\n",
    "df['Title'] = df['Title'].map(title_reduction)\n",
    "df['Title'].unique()"
   ]
  },
  {
   "cell_type": "code",
   "execution_count": 11,
   "id": "6b3d2360",
   "metadata": {},
   "outputs": [
    {
     "name": "stdout",
     "output_type": "stream",
     "text": [
      "Dr 42.0\n",
      "Master 4.574166666666667\n",
      "Miss 21.86\n",
      "Mr 32.74014778325123\n",
      "Mrs 35.981818181818184\n",
      "Rev 43.166666666666664\n"
     ]
    },
    {
     "data": {
      "text/plain": [
       "PassengerId          0\n",
       "Survived             0\n",
       "Pclass               0\n",
       "Name                 0\n",
       "Sex                  0\n",
       "Age                  0\n",
       "SibSp                0\n",
       "Parch                0\n",
       "Ticket               0\n",
       "Fare                 0\n",
       "Cabin              687\n",
       "Embarked             0\n",
       "Deck                 0\n",
       "pridect_Age          0\n",
       "KNN_pridect_Age      0\n",
       "Title                0\n",
       "dtype: int64"
      ]
     },
     "execution_count": 11,
     "metadata": {},
     "output_type": "execute_result"
    }
   ],
   "source": [
    "##not for this session\n",
    "#replacing NaN with the mean value of each title\n",
    "for title, age in df.groupby('Title')['Age'].mean().iteritems():\n",
    "    print(title, age)\n",
    "    df.loc[(df['Title']==title) & (df['Age'].isnull()), 'Age'] = age\n",
    "\n",
    "df.isnull().sum()"
   ]
  },
  {
   "cell_type": "code",
   "execution_count": 12,
   "id": "b7657021",
   "metadata": {},
   "outputs": [],
   "source": [
    "df['Age']=df['Age'].astype(int)\n"
   ]
  },
  {
   "cell_type": "code",
   "execution_count": 13,
   "id": "bb755420",
   "metadata": {},
   "outputs": [],
   "source": [
    "df.drop(['Name','Ticket','Cabin','Title'] ,axis=1 , inplace=True)"
   ]
  },
  {
   "cell_type": "code",
   "execution_count": 14,
   "id": "67ce03c9",
   "metadata": {},
   "outputs": [
    {
     "data": {
      "image/png": "[encoded data removed]",
      "text/plain": [
       "<Figure size 720x576 with 2 Axes>"
      ]
     },
     "metadata": {
      "needs_background": "light"
     },
     "output_type": "display_data"
    }
   ],
   "source": [
    "#session start\n",
    "#Finding correlations to determine the necessary features by heatmap\n",
    "import matplotlib.pyplot as plt\n",
    "\n",
    "import seaborn as sns\n",
    "plt.figure(figsize=(10,8))\n",
    "sns.heatmap(df.corr(),annot=True)\n",
    "plt.show()\n"
   ]
  },
  {
   "cell_type": "code",
   "execution_count": 15,
   "id": "a86e4236",
   "metadata": {},
   "outputs": [],
   "source": [
    "#First : Age by the mean value of title"
   ]
  },
  {
   "cell_type": "code",
   "execution_count": 16,
   "id": "e746ad15",
   "metadata": {},
   "outputs": [],
   "source": [
    "#determine the necessary features \n",
    "X=df[['Pclass', 'Sex', 'Age', 'SibSp', 'Parch','Fare','Embarked' ,'Deck']]\n",
    "y=df['Survived']\n",
    "\n",
    "#split dataset by 0.25 for test data\n",
    "X_train,X_test,y_train,y_test=train_test_split(X,y,test_size=0.25)"
   ]
  },
  {
   "cell_type": "code",
   "execution_count": 17,
   "id": "057b5ccd",
   "metadata": {},
   "outputs": [],
   "source": [
    "#Logistic Regression\n",
    "\n",
    "LR=LogisticRegression().fit(X_train,y_train)"
   ]
  },
  {
   "cell_type": "code",
   "execution_count": 18,
   "id": "ef734fd0",
   "metadata": {},
   "outputs": [],
   "source": [
    "y_predict=LR.predict(X_test)"
   ]
  },
  {
   "cell_type": "code",
   "execution_count": 19,
   "id": "0fd12c45",
   "metadata": {},
   "outputs": [],
   "source": [
    "con_mat=confusion_matrix(y_test,y_predict)"
   ]
  },
  {
   "cell_type": "code",
   "execution_count": 20,
   "id": "eabd43a7",
   "metadata": {},
   "outputs": [],
   "source": [
    "con_mat=pd.DataFrame(con_mat,columns=['predicted No','predicted Yes'],index=['actual No','actual Yes'])"
   ]
  },
  {
   "cell_type": "code",
   "execution_count": 21,
   "id": "d967f100",
   "metadata": {},
   "outputs": [
    {
     "name": "stdout",
     "output_type": "stream",
     "text": [
      "            predicted No  predicted Yes\n",
      "actual No            121             15\n",
      "actual Yes            31             56\n"
     ]
    }
   ],
   "source": [
    "print(con_mat)"
   ]
  },
  {
   "cell_type": "code",
   "execution_count": 22,
   "id": "a7977da3",
   "metadata": {},
   "outputs": [],
   "source": [
    "score=accuracy_score(y_predict,y_test)"
   ]
  },
  {
   "cell_type": "code",
   "execution_count": 23,
   "id": "2968244b",
   "metadata": {},
   "outputs": [
    {
     "name": "stdout",
     "output_type": "stream",
     "text": [
      "0.7937219730941704\n"
     ]
    }
   ],
   "source": [
    "print(score)"
   ]
  },
  {
   "cell_type": "code",
   "execution_count": null,
   "id": "7121ce6d",
   "metadata": {},
   "outputs": [],
   "source": []
  },
  {
   "cell_type": "code",
   "execution_count": 24,
   "id": "f3fc3e23",
   "metadata": {},
   "outputs": [
    {
     "name": "stdout",
     "output_type": "stream",
     "text": [
      "\n",
      " CV accuracy for k=1 is 72\n",
      "\n",
      " CV accuracy for k=2 is 70\n",
      "\n",
      " CV accuracy for k=3 is 70\n",
      "\n",
      " CV accuracy for k=4 is 70\n",
      "\n",
      " CV accuracy for k=5 is 70\n",
      "\n",
      " CV accuracy for k=6 is 68\n",
      "\n",
      " CV accuracy for k=7 is 70\n",
      "\n",
      " CV accuracy for k=8 is 68\n",
      "\n",
      " CV accuracy for k=9 is 67\n",
      "\n",
      " CV accuracy for k=10 is 66\n",
      "\n",
      " CV accuracy for k=11 is 69\n",
      "\n",
      " CV accuracy for k=12 is 70\n",
      "\n",
      " CV accuracy for k=13 is 71\n",
      "\n",
      " CV accuracy for k=14 is 71\n",
      "\n",
      " CV accuracy for k=15 is 72\n",
      "\n",
      " CV accuracy for k=16 is 72\n",
      "\n",
      " CV accuracy for k=17 is 72\n",
      "\n",
      " CV accuracy for k=18 is 71\n",
      "\n",
      " CV accuracy for k=19 is 69\n",
      "0\n"
     ]
    }
   ],
   "source": [
    "#KNN\n",
    "final_scores = []\n",
    "for i in range(1,20,1):\n",
    "    knn = KNeighborsClassifier(n_neighbors = i)\n",
    "    knn.fit(X_train, y_train)\n",
    "    pred = knn.predict(X_test)\n",
    "    acc = accuracy_score(y_test, pred, normalize=True) * float(100)\n",
    "    final_scores.append(acc)\n",
    "    print('\\n CV accuracy for k=%d is %d'%(i,acc))\n",
    "optimal_k = final_scores.index(max(final_scores))\n",
    "print(optimal_k)\n",
    "    \n",
    "\n"
   ]
  },
  {
   "cell_type": "code",
   "execution_count": 25,
   "id": "ccc77ee5",
   "metadata": {},
   "outputs": [
    {
     "name": "stdout",
     "output_type": "stream",
     "text": [
      "[[117  19]\n",
      " [ 30  57]]\n"
     ]
    },
    {
     "data": {
      "text/plain": [
       "0.7937219730941704"
      ]
     },
     "execution_count": 25,
     "metadata": {},
     "output_type": "execute_result"
    }
   ],
   "source": [
    "#Linear Discriminant Analysis\n",
    "\n",
    "from sklearn.discriminant_analysis import LinearDiscriminantAnalysis\n",
    "model = LinearDiscriminantAnalysis()\n",
    "res = model.fit(X_train, y_train).transform(X_train)\n",
    "\n",
    "\n",
    "\n",
    "y_pred= model.predict(X_test)\n",
    "model.decision_function(X_test)\n",
    "\n",
    "\n",
    "from sklearn.metrics import confusion_matrix\n",
    "confusion_matrix = confusion_matrix(y_test, y_pred)\n",
    "print(confusion_matrix)\n",
    "score=accuracy_score(y_predict,y_test)\n",
    "score"
   ]
  },
  {
   "cell_type": "code",
   "execution_count": 26,
   "id": "bacada70",
   "metadata": {},
   "outputs": [],
   "source": [
    "##Second Age by Linear Regression"
   ]
  },
  {
   "cell_type": "code",
   "execution_count": 27,
   "id": "d286dd52",
   "metadata": {
    "scrolled": true
   },
   "outputs": [],
   "source": [
    "\n",
    "X=df[['Pclass', 'Sex', 'pridect_Age', 'SibSp', 'Parch','Fare','Embarked' ,'Deck']]\n",
    "y=df['Survived']\n",
    "\n",
    "\n",
    "X_train,X_test,y_train,y_test=train_test_split(X,y,test_size=0.25)\n",
    "#Logistic Regression\n",
    "\n",
    "LR=LogisticRegression().fit(X_train,y_train)\n",
    "y_predict=LR.predict(X_test)\n"
   ]
  },
  {
   "cell_type": "code",
   "execution_count": 28,
   "id": "e0535072",
   "metadata": {},
   "outputs": [
    {
     "name": "stdout",
     "output_type": "stream",
     "text": [
      "            predicted No  predicted Yes\n",
      "actual No            121             15\n",
      "actual Yes            31             56\n",
      "0.8340807174887892\n"
     ]
    }
   ],
   "source": [
    "\n",
    "score=accuracy_score(y_predict,y_test)\n",
    "print(con_mat)\n",
    "print(score)"
   ]
  },
  {
   "cell_type": "code",
   "execution_count": 29,
   "id": "9b53a972",
   "metadata": {},
   "outputs": [
    {
     "name": "stdout",
     "output_type": "stream",
     "text": [
      "\n",
      " CV accuracy for k=1 is 70\n",
      "\n",
      " CV accuracy for k=2 is 69\n",
      "\n",
      " CV accuracy for k=3 is 72\n",
      "\n",
      " CV accuracy for k=4 is 66\n",
      "\n",
      " CV accuracy for k=5 is 71\n",
      "\n",
      " CV accuracy for k=6 is 69\n",
      "\n",
      " CV accuracy for k=7 is 69\n",
      "\n",
      " CV accuracy for k=8 is 70\n",
      "\n",
      " CV accuracy for k=9 is 73\n",
      "\n",
      " CV accuracy for k=10 is 69\n",
      "\n",
      " CV accuracy for k=11 is 69\n",
      "\n",
      " CV accuracy for k=12 is 70\n",
      "\n",
      " CV accuracy for k=13 is 73\n",
      "\n",
      " CV accuracy for k=14 is 73\n",
      "\n",
      " CV accuracy for k=15 is 74\n",
      "\n",
      " CV accuracy for k=16 is 74\n",
      "\n",
      " CV accuracy for k=17 is 74\n",
      "\n",
      " CV accuracy for k=18 is 73\n",
      "\n",
      " CV accuracy for k=19 is 74\n",
      "14\n"
     ]
    }
   ],
   "source": [
    "#KNN\n",
    "final_scores = []\n",
    "for i in range(1,20,1):\n",
    "    knn = KNeighborsClassifier(n_neighbors = i)\n",
    "    knn.fit(X_train, y_train)\n",
    "    pred = knn.predict(X_test)\n",
    "    acc = accuracy_score(y_test, pred, normalize=True) * float(100)\n",
    "    final_scores.append(acc)\n",
    "    print('\\n CV accuracy for k=%d is %d'%(i,acc))\n",
    "optimal_k = final_scores.index(max(final_scores))\n",
    "print(optimal_k)\n",
    "    \n",
    "\n"
   ]
  },
  {
   "cell_type": "code",
   "execution_count": 30,
   "id": "31c84392",
   "metadata": {},
   "outputs": [
    {
     "name": "stdout",
     "output_type": "stream",
     "text": [
      "[[126  18]\n",
      " [ 23  56]]\n"
     ]
    },
    {
     "data": {
      "text/plain": [
       "0.8340807174887892"
      ]
     },
     "execution_count": 30,
     "metadata": {},
     "output_type": "execute_result"
    }
   ],
   "source": [
    "#LinearDiscriminantAnalysis\n",
    "from sklearn.discriminant_analysis import LinearDiscriminantAnalysis\n",
    "model = LinearDiscriminantAnalysis()\n",
    "res = model.fit(X_train, y_train).transform(X_train)\n",
    "\n",
    "\n",
    "\n",
    "y_pred= model.predict(X_test)\n",
    "model.decision_function(X_test)\n",
    "\n",
    "\n",
    "from sklearn.metrics import confusion_matrix\n",
    "confusion_matrix = confusion_matrix(y_test, y_pred)\n",
    "print(confusion_matrix)\n",
    "score=accuracy_score(y_predict,y_test)\n",
    "score"
   ]
  },
  {
   "cell_type": "code",
   "execution_count": 31,
   "id": "599fe561",
   "metadata": {},
   "outputs": [],
   "source": [
    "##Third :  KNN"
   ]
  },
  {
   "cell_type": "code",
   "execution_count": 32,
   "id": "386a3959",
   "metadata": {},
   "outputs": [
    {
     "name": "stdout",
     "output_type": "stream",
     "text": [
      "            predicted No  predicted Yes\n",
      "actual No            121             15\n",
      "actual Yes            31             56\n",
      "0.7892376681614349\n"
     ]
    }
   ],
   "source": [
    "X=df[['Pclass', 'Sex', 'KNN_pridect_Age', 'SibSp', 'Parch','Fare','Embarked' ,'Deck']]\n",
    "y=df['Survived']\n",
    "\n",
    "\n",
    "X_train,X_test,y_train,y_test=train_test_split(X,y,test_size=0.25)\n",
    "\n",
    "#Logistic Regression\n",
    "LR=LogisticRegression().fit(X_train,y_train)\n",
    "y_predict=LR.predict(X_test)\n",
    "score=accuracy_score(y_predict,y_test)\n",
    "print(con_mat)\n",
    "print(score)"
   ]
  },
  {
   "cell_type": "code",
   "execution_count": 33,
   "id": "8080b998",
   "metadata": {
    "scrolled": true
   },
   "outputs": [
    {
     "name": "stdout",
     "output_type": "stream",
     "text": [
      "\n",
      " CV accuracy for k=1 is 72\n",
      "\n",
      " CV accuracy for k=2 is 64\n",
      "\n",
      " CV accuracy for k=3 is 70\n",
      "\n",
      " CV accuracy for k=4 is 69\n",
      "\n",
      " CV accuracy for k=5 is 69\n",
      "\n",
      " CV accuracy for k=6 is 69\n",
      "\n",
      " CV accuracy for k=7 is 68\n",
      "\n",
      " CV accuracy for k=8 is 68\n",
      "\n",
      " CV accuracy for k=9 is 68\n",
      "\n",
      " CV accuracy for k=10 is 67\n",
      "\n",
      " CV accuracy for k=11 is 69\n",
      "\n",
      " CV accuracy for k=12 is 69\n",
      "\n",
      " CV accuracy for k=13 is 69\n",
      "\n",
      " CV accuracy for k=14 is 69\n",
      "\n",
      " CV accuracy for k=15 is 69\n",
      "\n",
      " CV accuracy for k=16 is 69\n",
      "\n",
      " CV accuracy for k=17 is 70\n",
      "\n",
      " CV accuracy for k=18 is 68\n",
      "\n",
      " CV accuracy for k=19 is 69\n",
      "0\n"
     ]
    }
   ],
   "source": [
    "#KNN\n",
    "final_scores = []\n",
    "for i in range(1,20,1):\n",
    "    knn = KNeighborsClassifier(n_neighbors = i)\n",
    "    knn.fit(X_train, y_train)\n",
    "    pred = knn.predict(X_test)\n",
    "    acc = accuracy_score(y_test, pred, normalize=True) * float(100)\n",
    "    final_scores.append(acc)\n",
    "    print('\\n CV accuracy for k=%d is %d'%(i,acc))\n",
    "optimal_k = final_scores.index(max(final_scores))\n",
    "print(optimal_k)\n",
    "    \n",
    "\n"
   ]
  },
  {
   "cell_type": "code",
   "execution_count": 34,
   "id": "7c353efc",
   "metadata": {},
   "outputs": [
    {
     "name": "stdout",
     "output_type": "stream",
     "text": [
      "[[114  17]\n",
      " [ 29  63]]\n"
     ]
    },
    {
     "data": {
      "text/plain": [
       "0.7892376681614349"
      ]
     },
     "execution_count": 34,
     "metadata": {},
     "output_type": "execute_result"
    }
   ],
   "source": [
    "#LinearDiscriminantAnalysis\n",
    "from sklearn.discriminant_analysis import LinearDiscriminantAnalysis\n",
    "model = LinearDiscriminantAnalysis()\n",
    "res = model.fit(X_train, y_train).transform(X_train)\n",
    "\n",
    "\n",
    "\n",
    "y_pred= model.predict(X_test)\n",
    "model.decision_function(X_test)\n",
    "\n",
    "\n",
    "from sklearn.metrics import confusion_matrix\n",
    "confusion_matrix = confusion_matrix(y_test, y_pred)\n",
    "print(confusion_matrix)\n",
    "score=accuracy_score(y_predict,y_test)\n",
    "score"
   ]
  },
  {
   "cell_type": "code",
   "execution_count": 35,
   "id": "1d985100",
   "metadata": {},
   "outputs": [],
   "source": [
    "#The best model is Logistic Regression with prdecting Age with KNN"
   ]
  },
  {
   "cell_type": "code",
   "execution_count": null,
   "id": "95a97d24",
   "metadata": {},
   "outputs": [],
   "source": []
  },
  {
   "cell_type": "markdown",
   "id": "e0fa860b",
   "metadata": {},
   "source": [
    "#  Workhsop 3"
   ]
  },
  {
   "cell_type": "code",
   "execution_count": 104,
   "id": "85f2b5df",
   "metadata": {},
   "outputs": [],
   "source": [
    "X=df[['Pclass', 'Sex', 'KNN_pridect_Age', 'SibSp', 'Parch','Fare','Embarked' ,'Deck']]\n",
    "x1= df[['Pclass', 'Sex', 'KNN_pridect_Age']]\n",
    "x2 = df[['SibSp', 'Parch','Fare']]\n",
    "x3 =df[[ 'Sex', 'Embarked' ,'Deck']]\n",
    "\n",
    "y=df['Survived']"
   ]
  },
  {
   "cell_type": "code",
   "execution_count": 37,
   "id": "1ae5f006",
   "metadata": {},
   "outputs": [],
   "source": [
    "#Split"
   ]
  },
  {
   "cell_type": "code",
   "execution_count": 116,
   "id": "9c17f23b",
   "metadata": {},
   "outputs": [
    {
     "name": "stdout",
     "output_type": "stream",
     "text": [
      "0.7985074626865671\n",
      "Confusion_matrix for x1:             predicted No  predicted Yes\n",
      "actual No            121             15\n",
      "actual Yes            31             56\n",
      "0.664179104477612\n",
      "Confusion_matrix for x2:             predicted No  predicted Yes\n",
      "actual No            121             15\n",
      "actual Yes            31             56\n",
      "0.7686567164179104\n",
      "Confusion_matrix for x3:             predicted No  predicted Yes\n",
      "actual No            121             15\n",
      "actual Yes            31             56\n",
      "{'x1': 0.7985074626865671, 'x2': 0.664179104477612, 'x3': 0.7686567164179104}\n"
     ]
    },
    {
     "data": {
      "image/png": "[encoded data removed]",
      "text/plain": [
       "<Figure size 360x360 with 2 Axes>"
      ]
     },
     "metadata": {},
     "output_type": "display_data"
    },
    {
     "data": {
      "image/png": "[encoded data removed]",
      "text/plain": [
       "<Figure size 360x360 with 2 Axes>"
      ]
     },
     "metadata": {},
     "output_type": "display_data"
    },
    {
     "data": {
      "image/png": "[encoded data removed]",
      "text/plain": [
       "<Figure size 360x360 with 2 Axes>"
      ]
     },
     "metadata": {},
     "output_type": "display_data"
    }
   ],
   "source": [
    "fList=[x1,x2,x3]\n",
    "ls = ['x1','x2','x3']\n",
    "count = 0\n",
    "acc_dict={}\n",
    "for i in fList:\n",
    "    X_train,X_test,y_train,y_test=train_test_split(i,y,test_size=0.3)\n",
    "    #Logistic Regression\n",
    "   \n",
    "    LR=LogisticRegression().fit(X_train,y_train)\n",
    "    y_predict=LR.predict(X_test)\n",
    "    s=accuracy_score(y_predict,y_test)\n",
    "    acc_dict[ls[count]]=s\n",
    "    print(s)\n",
    "    print(\"Confusion_matrix for {}:\".format(ls[count]), con_mat)\n",
    "    count+=1\n",
    "    plt.figure(figsize=(5,5))\n",
    "    sns.heatmap(con_mat, annot=True, fmt=\".1f\", linewidths=.5, square = True, cmap = 'Blues_r');\n",
    "    plt.ylabel('Actual label');\n",
    "    plt.xlabel('Predicted label');\n",
    "    \n",
    "print(acc_dict)"
   ]
  },
  {
   "cell_type": "code",
   "execution_count": null,
   "id": "a583d41e",
   "metadata": {},
   "outputs": [],
   "source": [
    "fList=[x1,x2,x3]\n",
    "ls = ['x1','x2','x3']\n",
    "count = 0\n",
    "acc_dict={}\n",
    "for i in fList:\n",
    "    X_train,X_test,y_train,y_test=train_test_split(i,y,test_size=0.3)\n",
    "    final_scores = []\n",
    "    for i in range(1,20,1):\n",
    "        knn = KNeighborsClassifier(n_neighbors = i)\n",
    "        knn.fit(X_train, y_train)\n",
    "        pred = knn.predict(X_test)\n",
    "        score=cross_val_score(knn,X_train,y_train,cv=5)\n",
    "        print(\"Score:\",score)\n",
    "        acc = accuracy_score(y_test, pred, normalize=True) * float(100)\n",
    "        final_scores.append(acc)\n",
    "        print('\\n CV accuracy for k=%d is %d'%(i,acc))\n",
    "    optimal_k = final_scores.index(max(final_scores))\n",
    "    print(optimal_k+1)   \n",
    "7\n",
    "    \n",
    "print(acc_dict)"
   ]
  },
  {
   "cell_type": "code",
   "execution_count": null,
   "id": "5dd9482c",
   "metadata": {},
   "outputs": [],
   "source": []
  },
  {
   "cell_type": "code",
   "execution_count": 117,
   "id": "6936b57d",
   "metadata": {
    "scrolled": true
   },
   "outputs": [
    {
     "data": {
      "text/plain": [
       "[<matplotlib.lines.Line2D at 0x28ac8374f40>]"
      ]
     },
     "execution_count": 117,
     "metadata": {},
     "output_type": "execute_result"
    },
    {
     "data": {
      "image/png": "[encoded data removed]",
      "text/plain": [
       "<Figure size 1008x1008 with 1 Axes>"
      ]
     },
     "metadata": {},
     "output_type": "display_data"
    }
   ],
   "source": [
    "keys = accuracy_dict.keys()\n",
    "values = accuracy_dict.values()\n",
    "\n",
    "plt.plot(keys, values, linestyle='--', marker='o', color='r', label='line with marker')"
   ]
  },
  {
   "cell_type": "code",
   "execution_count": 93,
   "id": "ba4c2816",
   "metadata": {},
   "outputs": [
    {
     "name": "stdout",
     "output_type": "stream",
     "text": [
      "0.2\n",
      "\n",
      " CV accuracy for k=1 is 66\n",
      "\n",
      " CV accuracy for k=2 is 68\n",
      "\n",
      " CV accuracy for k=3 is 69\n",
      "\n",
      " CV accuracy for k=4 is 69\n",
      "\n",
      " CV accuracy for k=5 is 68\n",
      "\n",
      " CV accuracy for k=6 is 70\n",
      "\n",
      " CV accuracy for k=7 is 70\n",
      "\n",
      " CV accuracy for k=8 is 73\n",
      "\n",
      " CV accuracy for k=9 is 73\n",
      "\n",
      " CV accuracy for k=10 is 70\n",
      "\n",
      " CV accuracy for k=11 is 69\n",
      "\n",
      " CV accuracy for k=12 is 68\n",
      "\n",
      " CV accuracy for k=13 is 68\n",
      "\n",
      " CV accuracy for k=14 is 68\n",
      "\n",
      " CV accuracy for k=15 is 67\n",
      "\n",
      " CV accuracy for k=16 is 68\n",
      "\n",
      " CV accuracy for k=17 is 68\n",
      "\n",
      " CV accuracy for k=18 is 68\n",
      "\n",
      " CV accuracy for k=19 is 68\n",
      "8 73.18435754189943 \n",
      "\n",
      "0.25\n",
      "\n",
      " CV accuracy for k=1 is 66\n",
      "\n",
      " CV accuracy for k=2 is 65\n",
      "\n",
      " CV accuracy for k=3 is 69\n",
      "\n",
      " CV accuracy for k=4 is 68\n",
      "\n",
      " CV accuracy for k=5 is 69\n",
      "\n",
      " CV accuracy for k=6 is 66\n",
      "\n",
      " CV accuracy for k=7 is 67\n",
      "\n",
      " CV accuracy for k=8 is 67\n",
      "\n",
      " CV accuracy for k=9 is 66\n",
      "\n",
      " CV accuracy for k=10 is 65\n",
      "\n",
      " CV accuracy for k=11 is 68\n",
      "\n",
      " CV accuracy for k=12 is 67\n",
      "\n",
      " CV accuracy for k=13 is 67\n",
      "\n",
      " CV accuracy for k=14 is 67\n",
      "\n",
      " CV accuracy for k=15 is 66\n",
      "\n",
      " CV accuracy for k=16 is 67\n",
      "\n",
      " CV accuracy for k=17 is 67\n",
      "\n",
      " CV accuracy for k=18 is 69\n",
      "\n",
      " CV accuracy for k=19 is 69\n",
      "5 69.50672645739911 \n",
      "\n",
      "0.3\n",
      "\n",
      " CV accuracy for k=1 is 69\n",
      "\n",
      " CV accuracy for k=2 is 67\n",
      "\n",
      " CV accuracy for k=3 is 68\n",
      "\n",
      " CV accuracy for k=4 is 68\n",
      "\n",
      " CV accuracy for k=5 is 72\n",
      "\n",
      " CV accuracy for k=6 is 71\n",
      "\n",
      " CV accuracy for k=7 is 71\n",
      "\n",
      " CV accuracy for k=8 is 72\n",
      "\n",
      " CV accuracy for k=9 is 69\n",
      "\n",
      " CV accuracy for k=10 is 69\n",
      "\n",
      " CV accuracy for k=11 is 69\n",
      "\n",
      " CV accuracy for k=12 is 67\n",
      "\n",
      " CV accuracy for k=13 is 68\n",
      "\n",
      " CV accuracy for k=14 is 68\n",
      "\n",
      " CV accuracy for k=15 is 66\n",
      "\n",
      " CV accuracy for k=16 is 67\n",
      "\n",
      " CV accuracy for k=17 is 69\n",
      "\n",
      " CV accuracy for k=18 is 69\n",
      "\n",
      " CV accuracy for k=19 is 69\n",
      "5 72.76119402985076 \n",
      "\n"
     ]
    },
    {
     "data": {
      "text/plain": [
       "{0.2: [66.4804469273743,\n",
       "  68.71508379888269,\n",
       "  69.27374301675978,\n",
       "  69.27374301675978,\n",
       "  68.71508379888269,\n",
       "  70.39106145251397,\n",
       "  70.94972067039106,\n",
       "  73.18435754189943,\n",
       "  73.18435754189943,\n",
       "  70.39106145251397,\n",
       "  69.83240223463687,\n",
       "  68.71508379888269,\n",
       "  68.15642458100558,\n",
       "  68.71508379888269,\n",
       "  67.59776536312849,\n",
       "  68.71508379888269,\n",
       "  68.71508379888269,\n",
       "  68.15642458100558,\n",
       "  68.15642458100558],\n",
       " 0.25: [66.81614349775785,\n",
       "  65.91928251121077,\n",
       "  69.05829596412556,\n",
       "  68.16143497757847,\n",
       "  69.50672645739911,\n",
       "  66.3677130044843,\n",
       "  67.71300448430493,\n",
       "  67.2645739910314,\n",
       "  66.81614349775785,\n",
       "  65.02242152466367,\n",
       "  68.60986547085201,\n",
       "  67.71300448430493,\n",
       "  67.2645739910314,\n",
       "  67.71300448430493,\n",
       "  66.81614349775785,\n",
       "  67.71300448430493,\n",
       "  67.2645739910314,\n",
       "  69.05829596412556,\n",
       "  69.05829596412556],\n",
       " 0.3: [69.77611940298507,\n",
       "  67.91044776119402,\n",
       "  68.65671641791045,\n",
       "  68.65671641791045,\n",
       "  72.76119402985076,\n",
       "  71.26865671641791,\n",
       "  71.64179104477611,\n",
       "  72.01492537313433,\n",
       "  69.02985074626866,\n",
       "  69.02985074626866,\n",
       "  69.02985074626866,\n",
       "  67.53731343283582,\n",
       "  68.65671641791045,\n",
       "  68.28358208955224,\n",
       "  66.7910447761194,\n",
       "  67.16417910447761,\n",
       "  69.77611940298507,\n",
       "  69.40298507462687,\n",
       "  69.77611940298507]}"
      ]
     },
     "execution_count": 93,
     "metadata": {},
     "output_type": "execute_result"
    }
   ],
   "source": [
    "hritikas_dictionary = {}\n",
    "for i in np.arange(0.2,0.31,0.05):\n",
    "    X_train,X_test,y_train,y_test=train_test_split(X,y,test_size=i)\n",
    "    print(i)\n",
    "    #print(\"Test sample size: \", i)\n",
    "    #print(\"\\n\")\n",
    "    final_scores = []\n",
    "    for j in range(1,20,1):\n",
    "        knn = KNeighborsClassifier(n_neighbors = j)\n",
    "        knn.fit(X_train, y_train)\n",
    "        pred = knn.predict(X_test)\n",
    "        acc = accuracy_score(y_test, pred, normalize=True) * float(100)\n",
    "        final_scores.append(acc)\n",
    "        print('\\n CV accuracy for k=%d is %d'%(j,acc))\n",
    "    optimal_k = final_scores.index(max(final_scores))\n",
    "    print(optimal_k+1,max(final_scores), \"\\n\") \n",
    "    hritikas_dictionary[i] = final_scores\n",
    "    \n",
    "hritikas_dictionary\n",
    "    "
   ]
  },
  {
   "cell_type": "code",
   "execution_count": null,
   "id": "78cfa331",
   "metadata": {},
   "outputs": [],
   "source": [
    "sns.lineplot(data = hritikas_dictionary, x = values, y =  hue = index)"
   ]
  },
  {
   "cell_type": "code",
   "execution_count": 51,
   "id": "eb3c4f2c",
   "metadata": {
    "scrolled": false
   },
   "outputs": [
    {
     "name": "stdout",
     "output_type": "stream",
     "text": [
      "Score mean: 0.7903265626753451\n",
      "Accuracy score:  0.820627802690583\n",
      "Score: [0.85074627 0.76119403 0.82089552 0.78195489 0.73684211]\n",
      "Confusion_matrix: [[134  18]\n",
      " [ 22  49]]\n"
     ]
    }
   ],
   "source": [
    "#Logistic Regression\n",
    "\n",
    "LR=LogisticRegression().fit(X_train,y_train)\n",
    "y_predict=LR.predict(X_test)\n",
    "s=accuracy_score(y_predict,y_test)\n",
    "score=cross_val_score(LR,X_train,y_train,cv=5)\n",
    "con_mat=confusion_matrix(y_test,y_predict)\n",
    "\n",
    "print('Score mean:' ,score.mean())\n",
    "print(\"Accuracy score: \", s)\n",
    "print(\"Score:\",score)\n",
    "print(\"Confusion_matrix:\", con_mat)"
   ]
  },
  {
   "cell_type": "code",
   "execution_count": 52,
   "id": "dd7910c8",
   "metadata": {
    "scrolled": true
   },
   "outputs": [
    {
     "data": {
      "image/png": "[encoded data removed]",
      "text/plain": [
       "<Figure size 360x360 with 2 Axes>"
      ]
     },
     "metadata": {
      "needs_background": "light"
     },
     "output_type": "display_data"
    }
   ],
   "source": [
    "plt.figure(figsize=(5,5))\n",
    "sns.heatmap(con_mat, annot=True, fmt=\".1f\", linewidths=.5, square = True, cmap = 'Blues_r');\n",
    "plt.ylabel('Actual label');\n",
    "plt.xlabel('Predicted label');"
   ]
  },
  {
   "cell_type": "code",
   "execution_count": 41,
   "id": "201756f1",
   "metadata": {
    "scrolled": true
   },
   "outputs": [
    {
     "name": "stdout",
     "output_type": "stream",
     "text": [
      "Score: [0.75373134 0.65671642 0.64925373 0.67669173 0.7518797 ]\n",
      "\n",
      " CV accuracy for k=1 is 69\n",
      "Score: [0.73134328 0.69402985 0.67910448 0.69924812 0.71428571]\n",
      "\n",
      " CV accuracy for k=2 is 69\n",
      "Score: [0.74626866 0.67164179 0.67910448 0.69924812 0.7518797 ]\n",
      "\n",
      " CV accuracy for k=3 is 67\n",
      "Score: [0.71641791 0.70149254 0.70895522 0.68421053 0.72180451]\n",
      "\n",
      " CV accuracy for k=4 is 69\n",
      "Score: [0.76119403 0.67910448 0.70149254 0.67669173 0.7518797 ]\n",
      "\n",
      " CV accuracy for k=5 is 70\n",
      "Score: [0.70149254 0.67164179 0.7238806  0.72180451 0.73684211]\n",
      "\n",
      " CV accuracy for k=6 is 72\n",
      "Score: [0.74626866 0.67164179 0.71641791 0.66917293 0.7518797 ]\n",
      "\n",
      " CV accuracy for k=7 is 69\n",
      "Score: [0.70149254 0.61940299 0.73134328 0.67669173 0.72180451]\n",
      "\n",
      " CV accuracy for k=8 is 69\n",
      "Score: [0.74626866 0.59701493 0.7238806  0.64661654 0.77443609]\n",
      "\n",
      " CV accuracy for k=9 is 72\n",
      "Score: [0.70895522 0.58955224 0.74626866 0.69172932 0.77443609]\n",
      "\n",
      " CV accuracy for k=10 is 70\n",
      "Score: [0.73134328 0.60447761 0.75373134 0.68421053 0.78195489]\n",
      "\n",
      " CV accuracy for k=11 is 70\n",
      "Score: [0.71641791 0.58955224 0.74626866 0.69172932 0.7443609 ]\n",
      "\n",
      " CV accuracy for k=12 is 68\n",
      "Score: [0.69402985 0.60447761 0.74626866 0.66917293 0.77443609]\n",
      "\n",
      " CV accuracy for k=13 is 69\n",
      "Score: [0.70895522 0.6119403  0.75373134 0.66917293 0.71428571]\n",
      "\n",
      " CV accuracy for k=14 is 69\n",
      "Score: [0.73134328 0.58955224 0.74626866 0.64661654 0.7443609 ]\n",
      "\n",
      " CV accuracy for k=15 is 69\n",
      "Score: [0.73134328 0.57462687 0.71641791 0.65413534 0.71428571]\n",
      "\n",
      " CV accuracy for k=16 is 71\n",
      "Score: [0.75373134 0.58955224 0.76119403 0.64661654 0.72932331]\n",
      "\n",
      " CV accuracy for k=17 is 70\n",
      "Score: [0.69402985 0.58955224 0.73880597 0.69172932 0.73684211]\n",
      "\n",
      " CV accuracy for k=18 is 69\n",
      "Score: [0.70895522 0.59701493 0.7238806  0.68421053 0.72932331]\n",
      "\n",
      " CV accuracy for k=19 is 69\n",
      "6\n"
     ]
    }
   ],
   "source": [
    "# KNN\n",
    "\n",
    "#KNN\n",
    "final_scores = []\n",
    "for i in range(1,20,1):\n",
    "    knn = KNeighborsClassifier(n_neighbors = i)\n",
    "    knn.fit(X_train, y_train)\n",
    "    pred = knn.predict(X_test)\n",
    "    score=cross_val_score(knn,X_train,y_train,cv=5)\n",
    "    print(\"Score:\",score)\n",
    "    acc = accuracy_score(y_test, pred, normalize=True) * float(100)\n",
    "    final_scores.append(acc)\n",
    "    print('\\n CV accuracy for k=%d is %d'%(i,acc))\n",
    "optimal_k = final_scores.index(max(final_scores))\n",
    "print(optimal_k+1)   "
   ]
  },
  {
   "cell_type": "code",
   "execution_count": 40,
   "id": "44ed91a7",
   "metadata": {},
   "outputs": [],
   "source": [
    "def model_score(key):\n",
    "    print(key)\n",
    "\n",
    "\n",
    "    x = df.iloc[:, 1:]\n",
    "    if(len(key) > 0):\n",
    "        x = x.drop(columns=[key])\n",
    "        x = x.values\n",
    "        \n",
    "    x_train, x_test, y_train, y_test = train_test_split(x,y,test_size=0.3)\n",
    "\n",
    "\n",
    "    # k-value\n",
    "    error_rate=[]\n",
    "    for i in range (1,31):\n",
    "        clf=KNeighborsClassifier(n_neighbors=i)\n",
    "        clf.fit(x_train,y_train.ravel())\n",
    "        predict_i=clf.predict(x_test)\n",
    "        error_rate.append(1 - accuracy_score(y_test, predict_i))\n",
    "    k_value = error_rate.index(min(error_rate)) + 1\n",
    "\n",
    "\n",
    "    models = []\n",
    "    models.append(('LR', LogisticRegression()))\n",
    "    models.append(('LDA', LinearDiscriminantAnalysis()))\n",
    "    models.append(('KNN', KNeighborsClassifier(n_neighbors=k_value)))\n",
    "\n",
    "\n",
    "\n",
    "    dict = {}\n",
    "    for name, model in models:\n",
    "        kfold = KFold(n_splits=5)\n",
    "        cv_results = cross_val_score(model, x_train, y_train.ravel(), cv=kfold, scoring='accuracy')\n",
    "        dict[name] = [cv_results.mean(), cv_results.std()]\n",
    "\n",
    "    return dict"
   ]
  },
  {
   "cell_type": "code",
   "execution_count": 54,
   "id": "2dd678ae",
   "metadata": {},
   "outputs": [],
   "source": [
    "results = {}"
   ]
  },
  {
   "cell_type": "code",
   "execution_count": 55,
   "id": "ac2a39b0",
   "metadata": {},
   "outputs": [
    {
     "name": "stdout",
     "output_type": "stream",
     "text": [
      "Pclass\n",
      "Sex\n",
      "Age\n",
      "SibSp\n",
      "Parch\n",
      "Fare\n",
      "Embarked\n",
      "Deck\n",
      "pridect_Age\n",
      "KNN_pridect_Age\n"
     ]
    }
   ],
   "source": [
    "for key in df.columns[2:]:\n",
    "    results[key] = pd.DataFrame(model_score(key))"
   ]
  },
  {
   "cell_type": "code",
   "execution_count": 56,
   "id": "2c29e25b",
   "metadata": {},
   "outputs": [
    {
     "data": {
      "text/plain": [
       "{'Pclass':          LR       LDA       KNN\n",
       " 0  0.998387  0.815213  0.725458\n",
       " 1  0.003226  0.054688  0.031599,\n",
       " 'Sex':     LR       LDA       KNN\n",
       " 0  1.0  0.743226  0.770490\n",
       " 1  0.0  0.041441  0.044124,\n",
       " 'Age':     LR       LDA       KNN\n",
       " 0  1.0  0.802568  0.722232\n",
       " 1  0.0  0.031848  0.039032,\n",
       " 'SibSp':     LR       LDA       KNN\n",
       " 0  1.0  0.789677  0.717523\n",
       " 1  0.0  0.021611  0.017383,\n",
       " 'Parch':     LR       LDA       KNN\n",
       " 0  1.0  0.788077  0.694981\n",
       " 1  0.0  0.023930  0.060822,\n",
       " 'Fare':     LR       LDA       KNN\n",
       " 0  1.0  0.797806  0.804219\n",
       " 1  0.0  0.040372  0.023749,\n",
       " 'Embarked':     LR       LDA       KNN\n",
       " 0  1.0  0.807419  0.764000\n",
       " 1  0.0  0.023989  0.022307,\n",
       " 'Deck':     LR       LDA       KNN\n",
       " 0  1.0  0.799394  0.712606\n",
       " 1  0.0  0.021756  0.025385,\n",
       " 'pridect_Age':     LR       LDA       KNN\n",
       " 0  1.0  0.788052  0.751174\n",
       " 1  0.0  0.041682  0.027045,\n",
       " 'KNN_pridect_Age':     LR       LDA       KNN\n",
       " 0  1.0  0.791355  0.770400\n",
       " 1  0.0  0.037444  0.023105}"
      ]
     },
     "execution_count": 56,
     "metadata": {},
     "output_type": "execute_result"
    }
   ],
   "source": [
    "results"
   ]
  },
  {
   "cell_type": "code",
   "execution_count": 57,
   "id": "d7e961fe",
   "metadata": {},
   "outputs": [
    {
     "name": "stdout",
     "output_type": "stream",
     "text": [
      "\n"
     ]
    },
    {
     "data": {
      "text/html": [
       "<div>\n",
       "<style scoped>\n",
       "    .dataframe tbody tr th:only-of-type {\n",
       "        vertical-align: middle;\n",
       "    }\n",
       "\n",
       "    .dataframe tbody tr th {\n",
       "        vertical-align: top;\n",
       "    }\n",
       "\n",
       "    .dataframe thead th {\n",
       "        text-align: right;\n",
       "    }\n",
       "</style>\n",
       "<table border=\"1\" class=\"dataframe\">\n",
       "  <thead>\n",
       "    <tr style=\"text-align: right;\">\n",
       "      <th></th>\n",
       "      <th>LR</th>\n",
       "      <th>LDA</th>\n",
       "      <th>KNN</th>\n",
       "    </tr>\n",
       "  </thead>\n",
       "  <tbody>\n",
       "    <tr>\n",
       "      <th>0</th>\n",
       "      <td>1.0</td>\n",
       "      <td>0.788129</td>\n",
       "      <td>0.722374</td>\n",
       "    </tr>\n",
       "    <tr>\n",
       "      <th>1</th>\n",
       "      <td>0.0</td>\n",
       "      <td>0.053730</td>\n",
       "      <td>0.026923</td>\n",
       "    </tr>\n",
       "  </tbody>\n",
       "</table>\n",
       "</div>"
      ],
      "text/plain": [
       "    LR       LDA       KNN\n",
       "0  1.0  0.788129  0.722374\n",
       "1  0.0  0.053730  0.026923"
      ]
     },
     "execution_count": 57,
     "metadata": {},
     "output_type": "execute_result"
    }
   ],
   "source": [
    "full_dataset_result = pd.DataFrame(model_score(''))\n",
    "full_dataset_result"
   ]
  },
  {
   "cell_type": "code",
   "execution_count": 58,
   "id": "0fb7292c",
   "metadata": {},
   "outputs": [],
   "source": [
    "margins = {}"
   ]
  },
  {
   "cell_type": "code",
   "execution_count": 59,
   "id": "06fc1a7c",
   "metadata": {},
   "outputs": [],
   "source": [
    "for key, res in results.items():\n",
    "    tmp_dict = {}\n",
    "    for model in res.columns:\n",
    "        tmp_dict[model] = []\n",
    "        tmp_dict[model].append(res[model][0] - full_dataset_result[model][0])\n",
    "        tmp_dict[model].append(res[model][1] - full_dataset_result[model][1])\n",
    "\n",
    "    margins[key] = pd.DataFrame(tmp_dict)"
   ]
  },
  {
   "cell_type": "code",
   "execution_count": 60,
   "id": "cb289f0b",
   "metadata": {},
   "outputs": [
    {
     "data": {
      "text/html": [
       "<div>\n",
       "<style scoped>\n",
       "    .dataframe tbody tr th:only-of-type {\n",
       "        vertical-align: middle;\n",
       "    }\n",
       "\n",
       "    .dataframe tbody tr th {\n",
       "        vertical-align: top;\n",
       "    }\n",
       "\n",
       "    .dataframe thead th {\n",
       "        text-align: right;\n",
       "    }\n",
       "</style>\n",
       "<table border=\"1\" class=\"dataframe\">\n",
       "  <thead>\n",
       "    <tr style=\"text-align: right;\">\n",
       "      <th></th>\n",
       "      <th>LR</th>\n",
       "      <th>LDA</th>\n",
       "      <th>KNN</th>\n",
       "    </tr>\n",
       "  </thead>\n",
       "  <tbody>\n",
       "    <tr>\n",
       "      <th>0</th>\n",
       "      <td>0.0</td>\n",
       "      <td>0.001548</td>\n",
       "      <td>-0.004852</td>\n",
       "    </tr>\n",
       "    <tr>\n",
       "      <th>1</th>\n",
       "      <td>0.0</td>\n",
       "      <td>-0.032119</td>\n",
       "      <td>-0.009540</td>\n",
       "    </tr>\n",
       "  </tbody>\n",
       "</table>\n",
       "</div>"
      ],
      "text/plain": [
       "    LR       LDA       KNN\n",
       "0  0.0  0.001548 -0.004852\n",
       "1  0.0 -0.032119 -0.009540"
      ]
     },
     "execution_count": 60,
     "metadata": {},
     "output_type": "execute_result"
    }
   ],
   "source": [
    "margins['SibSp']"
   ]
  },
  {
   "cell_type": "code",
   "execution_count": 61,
   "id": "4cad270e",
   "metadata": {},
   "outputs": [],
   "source": [
    "margins\n",
    "\n",
    "margins_means = {}\n",
    "\n",
    "for key, res in margins.items():\n",
    "    for col in res.columns:\n",
    "        margins_means[col] = {}\n",
    "        for key2, res2 in margins.items():\n",
    "            margins_means[col][key2] = margins[key2][col][0]"
   ]
  },
  {
   "cell_type": "code",
   "execution_count": 62,
   "id": "6530ae01",
   "metadata": {},
   "outputs": [
    {
     "name": "stdout",
     "output_type": "stream",
     "text": [
      "LR : Pclass ( -0.001612903225806428 )\n",
      "LDA : Sex ( -0.04490322580645156 )\n",
      "KNN : Parch ( -0.027393548387096733 )\n"
     ]
    }
   ],
   "source": [
    "for model, res in margins_means.items():\n",
    "    minimum = min(res, key=res.get)\n",
    "    print(model, ':',minimum, '(',res[minimum], ')')"
   ]
  },
  {
   "cell_type": "code",
   "execution_count": 63,
   "id": "a0986847",
   "metadata": {},
   "outputs": [
    {
     "data": {
      "text/html": [
       "<div>\n",
       "<style scoped>\n",
       "    .dataframe tbody tr th:only-of-type {\n",
       "        vertical-align: middle;\n",
       "    }\n",
       "\n",
       "    .dataframe tbody tr th {\n",
       "        vertical-align: top;\n",
       "    }\n",
       "\n",
       "    .dataframe thead th {\n",
       "        text-align: right;\n",
       "    }\n",
       "</style>\n",
       "<table border=\"1\" class=\"dataframe\">\n",
       "  <thead>\n",
       "    <tr style=\"text-align: right;\">\n",
       "      <th></th>\n",
       "      <th>LR</th>\n",
       "      <th>LDA</th>\n",
       "      <th>KNN</th>\n",
       "    </tr>\n",
       "  </thead>\n",
       "  <tbody>\n",
       "    <tr>\n",
       "      <th>0</th>\n",
       "      <td>-0.001613</td>\n",
       "      <td>0.027084</td>\n",
       "      <td>0.003084</td>\n",
       "    </tr>\n",
       "    <tr>\n",
       "      <th>1</th>\n",
       "      <td>0.003226</td>\n",
       "      <td>0.000958</td>\n",
       "      <td>0.004676</td>\n",
       "    </tr>\n",
       "  </tbody>\n",
       "</table>\n",
       "</div>"
      ],
      "text/plain": [
       "         LR       LDA       KNN\n",
       "0 -0.001613  0.027084  0.003084\n",
       "1  0.003226  0.000958  0.004676"
      ]
     },
     "execution_count": 63,
     "metadata": {},
     "output_type": "execute_result"
    }
   ],
   "source": [
    "margins['Pclass']"
   ]
  },
  {
   "cell_type": "code",
   "execution_count": 64,
   "id": "8b82963e",
   "metadata": {},
   "outputs": [
    {
     "data": {
      "text/html": [
       "<div>\n",
       "<style scoped>\n",
       "    .dataframe tbody tr th:only-of-type {\n",
       "        vertical-align: middle;\n",
       "    }\n",
       "\n",
       "    .dataframe tbody tr th {\n",
       "        vertical-align: top;\n",
       "    }\n",
       "\n",
       "    .dataframe thead th {\n",
       "        text-align: right;\n",
       "    }\n",
       "</style>\n",
       "<table border=\"1\" class=\"dataframe\">\n",
       "  <thead>\n",
       "    <tr style=\"text-align: right;\">\n",
       "      <th></th>\n",
       "      <th>LR</th>\n",
       "      <th>LDA</th>\n",
       "      <th>KNN</th>\n",
       "    </tr>\n",
       "  </thead>\n",
       "  <tbody>\n",
       "    <tr>\n",
       "      <th>0</th>\n",
       "      <td>0.0</td>\n",
       "      <td>-0.044903</td>\n",
       "      <td>0.048116</td>\n",
       "    </tr>\n",
       "    <tr>\n",
       "      <th>1</th>\n",
       "      <td>0.0</td>\n",
       "      <td>-0.012289</td>\n",
       "      <td>0.017201</td>\n",
       "    </tr>\n",
       "  </tbody>\n",
       "</table>\n",
       "</div>"
      ],
      "text/plain": [
       "    LR       LDA       KNN\n",
       "0  0.0 -0.044903  0.048116\n",
       "1  0.0 -0.012289  0.017201"
      ]
     },
     "execution_count": 64,
     "metadata": {},
     "output_type": "execute_result"
    }
   ],
   "source": [
    "margins['Sex']"
   ]
  },
  {
   "cell_type": "code",
   "execution_count": 65,
   "id": "c1315345",
   "metadata": {},
   "outputs": [
    {
     "data": {
      "text/html": [
       "<div>\n",
       "<style scoped>\n",
       "    .dataframe tbody tr th:only-of-type {\n",
       "        vertical-align: middle;\n",
       "    }\n",
       "\n",
       "    .dataframe tbody tr th {\n",
       "        vertical-align: top;\n",
       "    }\n",
       "\n",
       "    .dataframe thead th {\n",
       "        text-align: right;\n",
       "    }\n",
       "</style>\n",
       "<table border=\"1\" class=\"dataframe\">\n",
       "  <thead>\n",
       "    <tr style=\"text-align: right;\">\n",
       "      <th></th>\n",
       "      <th>LR</th>\n",
       "      <th>LDA</th>\n",
       "      <th>KNN</th>\n",
       "    </tr>\n",
       "  </thead>\n",
       "  <tbody>\n",
       "    <tr>\n",
       "      <th>0</th>\n",
       "      <td>0.0</td>\n",
       "      <td>-0.000052</td>\n",
       "      <td>-0.027394</td>\n",
       "    </tr>\n",
       "    <tr>\n",
       "      <th>1</th>\n",
       "      <td>0.0</td>\n",
       "      <td>-0.029800</td>\n",
       "      <td>0.033899</td>\n",
       "    </tr>\n",
       "  </tbody>\n",
       "</table>\n",
       "</div>"
      ],
      "text/plain": [
       "    LR       LDA       KNN\n",
       "0  0.0 -0.000052 -0.027394\n",
       "1  0.0 -0.029800  0.033899"
      ]
     },
     "execution_count": 65,
     "metadata": {},
     "output_type": "execute_result"
    }
   ],
   "source": [
    "margins['Parch']"
   ]
  },
  {
   "cell_type": "code",
   "execution_count": null,
   "id": "3c09c834",
   "metadata": {},
   "outputs": [],
   "source": [
    "fig = plt.figure(figsize=(6, 4), dpi=80)\n",
    "fig.suptitle('Comparison')\n",
    "ax = fig.add_subplot(111)\n",
    "plt.boxplot(margins_df)\n",
    "ax.set_xticklabels(margins_df.columns)\n",
    "plt.ylabel('Margins')\n",
    "plt.show()"
   ]
  },
  {
   "cell_type": "code",
   "execution_count": 69,
   "id": "1a2cfe6a",
   "metadata": {},
   "outputs": [
    {
     "data": {
      "text/plain": [
       "{'Pclass':          LR       LDA       KNN\n",
       " 0  0.998387  0.815213  0.725458\n",
       " 1  0.003226  0.054688  0.031599,\n",
       " 'Sex':     LR       LDA       KNN\n",
       " 0  1.0  0.743226  0.770490\n",
       " 1  0.0  0.041441  0.044124,\n",
       " 'Age':     LR       LDA       KNN\n",
       " 0  1.0  0.802568  0.722232\n",
       " 1  0.0  0.031848  0.039032,\n",
       " 'SibSp':     LR       LDA       KNN\n",
       " 0  1.0  0.789677  0.717523\n",
       " 1  0.0  0.021611  0.017383,\n",
       " 'Parch':     LR       LDA       KNN\n",
       " 0  1.0  0.788077  0.694981\n",
       " 1  0.0  0.023930  0.060822,\n",
       " 'Fare':     LR       LDA       KNN\n",
       " 0  1.0  0.797806  0.804219\n",
       " 1  0.0  0.040372  0.023749,\n",
       " 'Embarked':     LR       LDA       KNN\n",
       " 0  1.0  0.807419  0.764000\n",
       " 1  0.0  0.023989  0.022307,\n",
       " 'Deck':     LR       LDA       KNN\n",
       " 0  1.0  0.799394  0.712606\n",
       " 1  0.0  0.021756  0.025385,\n",
       " 'pridect_Age':     LR       LDA       KNN\n",
       " 0  1.0  0.788052  0.751174\n",
       " 1  0.0  0.041682  0.027045,\n",
       " 'KNN_pridect_Age':     LR       LDA       KNN\n",
       " 0  1.0  0.791355  0.770400\n",
       " 1  0.0  0.037444  0.023105}"
      ]
     },
     "execution_count": 69,
     "metadata": {},
     "output_type": "execute_result"
    }
   ],
   "source": [
    "results"
   ]
  },
  {
   "cell_type": "code",
   "execution_count": 79,
   "id": "dba85ef4",
   "metadata": {},
   "outputs": [],
   "source": [
    "margins_means = {}\n"
   ]
  },
  {
   "cell_type": "code",
   "execution_count": 80,
   "id": "43756417",
   "metadata": {},
   "outputs": [
    {
     "name": "stdout",
     "output_type": "stream",
     "text": [
      "LR : Pclass ( -0.001612903225806428 )\n",
      "LDA : Sex ( -0.04490322580645156 )\n",
      "KNN : Parch ( -0.027393548387096733 )\n"
     ]
    }
   ],
   "source": [
    "\n",
    "for key, res in margins.items():\n",
    "    for col in res.columns:\n",
    "        margins_means[col] = {}\n",
    "        for key2, res2 in margins.items():\n",
    "            margins_means[col][key2] = margins[key2][col][0]\n",
    "            \n",
    "            \n",
    "for model, res in margins_means.items():\n",
    "    minimum = min(res, key=res.get)\n",
    "    print(model, ':',minimum, '(',res[minimum], ')')"
   ]
  },
  {
   "cell_type": "code",
   "execution_count": 82,
   "id": "6f064088",
   "metadata": {},
   "outputs": [],
   "source": [
    "margins_df = pd.DataFrame(margins_means)"
   ]
  },
  {
   "cell_type": "code",
   "execution_count": 83,
   "id": "297123d1",
   "metadata": {},
   "outputs": [
    {
     "data": {
      "text/plain": [
       "Index(['Pclass', 'Sex', 'Age', 'SibSp', 'Parch', 'Fare', 'Embarked', 'Deck',\n",
       "       'pridect_Age', 'KNN_pridect_Age'],\n",
       "      dtype='object')"
      ]
     },
     "execution_count": 83,
     "metadata": {},
     "output_type": "execute_result"
    }
   ],
   "source": [
    "margins_df.index"
   ]
  },
  {
   "cell_type": "code",
   "execution_count": 90,
   "id": "15ccba90",
   "metadata": {},
   "outputs": [
    {
     "data": {
      "text/plain": [
       "'Comparison of margins in accuracy'"
      ]
     },
     "execution_count": 90,
     "metadata": {},
     "output_type": "execute_result"
    },
    {
     "data": {
      "image/png": "[encoded data removed]",
      "text/plain": [
       "<Figure size 417.5x360 with 1 Axes>"
      ]
     },
     "metadata": {
      "needs_background": "light"
     },
     "output_type": "display_data"
    }
   ],
   "source": [
    "x = sns.displot(data = margins_df)\n",
    "#Comparison of margins in accuracy"
   ]
  },
  {
   "cell_type": "code",
   "execution_count": 103,
   "id": "d5894c6b",
   "metadata": {},
   "outputs": [
    {
     "data": {
      "image/png": "[encoded data removed]",
      "text/plain": [
       "<Figure size 1008x1008 with 1 Axes>"
      ]
     },
     "metadata": {},
     "output_type": "display_data"
    }
   ],
   "source": [
    "sns.set(rc = {'figure.figsize':(14,14)})\n",
    "sns.scatterplot(data=margins_df)\n",
    "plt.show()"
   ]
  },
  {
   "cell_type": "code",
   "execution_count": 97,
   "id": "464d0782",
   "metadata": {},
   "outputs": [
    {
     "data": {
      "text/plain": [
       "<AxesSubplot:ylabel='KNN'>"
      ]
     },
     "execution_count": 97,
     "metadata": {},
     "output_type": "execute_result"
    },
    {
     "data": {
      "image/png": "[encoded data removed]",
      "text/plain": [
       "<Figure size 432x288 with 1 Axes>"
      ]
     },
     "metadata": {
      "needs_background": "light"
     },
     "output_type": "display_data"
    }
   ],
   "source": [
    "sns.barplot(data = margins_df, y = 'KNN')"
   ]
  },
  {
   "cell_type": "code",
   "execution_count": 96,
   "id": "d73d0470",
   "metadata": {},
   "outputs": [
    {
     "data": {
      "text/plain": [
       "<AxesSubplot:ylabel='LDA'>"
      ]
     },
     "execution_count": 96,
     "metadata": {},
     "output_type": "execute_result"
    },
    {
     "data": {
      "image/png": "[encoded data removed]",
      "text/plain": [
       "<Figure size 432x288 with 1 Axes>"
      ]
     },
     "metadata": {
      "needs_background": "light"
     },
     "output_type": "display_data"
    }
   ],
   "source": [
    "sns.barplot(data = margins_df, y = 'LDA')"
   ]
  },
  {
   "cell_type": "code",
   "execution_count": 86,
   "id": "e674a0d0",
   "metadata": {},
   "outputs": [
    {
     "data": {
      "text/html": [
       "<div>\n",
       "<style scoped>\n",
       "    .dataframe tbody tr th:only-of-type {\n",
       "        vertical-align: middle;\n",
       "    }\n",
       "\n",
       "    .dataframe tbody tr th {\n",
       "        vertical-align: top;\n",
       "    }\n",
       "\n",
       "    .dataframe thead th {\n",
       "        text-align: right;\n",
       "    }\n",
       "</style>\n",
       "<table border=\"1\" class=\"dataframe\">\n",
       "  <thead>\n",
       "    <tr style=\"text-align: right;\">\n",
       "      <th></th>\n",
       "      <th>LR</th>\n",
       "      <th>LDA</th>\n",
       "      <th>KNN</th>\n",
       "    </tr>\n",
       "  </thead>\n",
       "  <tbody>\n",
       "    <tr>\n",
       "      <th>Pclass</th>\n",
       "      <td>-0.001613</td>\n",
       "      <td>0.027084</td>\n",
       "      <td>0.003084</td>\n",
       "    </tr>\n",
       "    <tr>\n",
       "      <th>Sex</th>\n",
       "      <td>0.000000</td>\n",
       "      <td>-0.044903</td>\n",
       "      <td>0.048116</td>\n",
       "    </tr>\n",
       "    <tr>\n",
       "      <th>Age</th>\n",
       "      <td>0.000000</td>\n",
       "      <td>0.014439</td>\n",
       "      <td>-0.000142</td>\n",
       "    </tr>\n",
       "    <tr>\n",
       "      <th>SibSp</th>\n",
       "      <td>0.000000</td>\n",
       "      <td>0.001548</td>\n",
       "      <td>-0.004852</td>\n",
       "    </tr>\n",
       "    <tr>\n",
       "      <th>Parch</th>\n",
       "      <td>0.000000</td>\n",
       "      <td>-0.000052</td>\n",
       "      <td>-0.027394</td>\n",
       "    </tr>\n",
       "    <tr>\n",
       "      <th>Fare</th>\n",
       "      <td>0.000000</td>\n",
       "      <td>0.009677</td>\n",
       "      <td>0.081845</td>\n",
       "    </tr>\n",
       "    <tr>\n",
       "      <th>Embarked</th>\n",
       "      <td>0.000000</td>\n",
       "      <td>0.019290</td>\n",
       "      <td>0.041626</td>\n",
       "    </tr>\n",
       "    <tr>\n",
       "      <th>Deck</th>\n",
       "      <td>0.000000</td>\n",
       "      <td>0.011265</td>\n",
       "      <td>-0.009768</td>\n",
       "    </tr>\n",
       "    <tr>\n",
       "      <th>pridect_Age</th>\n",
       "      <td>0.000000</td>\n",
       "      <td>-0.000077</td>\n",
       "      <td>0.028800</td>\n",
       "    </tr>\n",
       "    <tr>\n",
       "      <th>KNN_pridect_Age</th>\n",
       "      <td>0.000000</td>\n",
       "      <td>0.003226</td>\n",
       "      <td>0.048026</td>\n",
       "    </tr>\n",
       "  </tbody>\n",
       "</table>\n",
       "</div>"
      ],
      "text/plain": [
       "                       LR       LDA       KNN\n",
       "Pclass          -0.001613  0.027084  0.003084\n",
       "Sex              0.000000 -0.044903  0.048116\n",
       "Age              0.000000  0.014439 -0.000142\n",
       "SibSp            0.000000  0.001548 -0.004852\n",
       "Parch            0.000000 -0.000052 -0.027394\n",
       "Fare             0.000000  0.009677  0.081845\n",
       "Embarked         0.000000  0.019290  0.041626\n",
       "Deck             0.000000  0.011265 -0.009768\n",
       "pridect_Age      0.000000 -0.000077  0.028800\n",
       "KNN_pridect_Age  0.000000  0.003226  0.048026"
      ]
     },
     "execution_count": 86,
     "metadata": {},
     "output_type": "execute_result"
    }
   ],
   "source": [
    "margins_df"
   ]
  },
  {
   "cell_type": "code",
   "execution_count": null,
   "id": "a0871a7e",
   "metadata": {},
   "outputs": [],
   "source": []
  }
 ],
 "metadata": {
  "kernelspec": {
   "display_name": "Python 3 (ipykernel)",
   "language": "python",
   "name": "python3"
  },
  "language_info": {
   "codemirror_mode": {
    "name": "ipython",
    "version": 3
   },
   "file_extension": ".py",
   "mimetype": "text/x-python",
   "name": "python",
   "nbconvert_exporter": "python",
   "pygments_lexer": "ipython3",
   "version": "3.9.6"
  }
 },
 "nbformat": 4,
 "nbformat_minor": 5
}
